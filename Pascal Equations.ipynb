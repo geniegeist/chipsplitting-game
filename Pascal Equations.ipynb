{
 "cells": [
  {
   "cell_type": "code",
   "execution_count": 1,
   "id": "451737b8-047c-40e5-a29a-a5a67dda26d3",
   "metadata": {},
   "outputs": [],
   "source": [
    "from chipsplitting import Node, CoordinateSystem"
   ]
  },
  {
   "cell_type": "code",
   "execution_count": 2,
   "id": "ceb2db90-2eff-4c71-b911-9c271e9f5a9b",
   "metadata": {},
   "outputs": [],
   "source": [
    "def generatePascal(diag: list[Node]) -> Node:\n",
    "    diag = [Node(v) if type(v) is int else v for v in diag]\n",
    "    if not diag:\n",
    "        return None\n",
    "    if len(diag) == 1:\n",
    "        return diag[0]\n",
    "    lower_diag = []\n",
    "    for i in range(len(diag) - 1):\n",
    "        top = diag[i]\n",
    "        right = diag[i+1]\n",
    "        node = Node(top.value + right.value)\n",
    "        node.top = top\n",
    "        node.right = right\n",
    "        lower_diag.append(node)\n",
    "    return generatePascal(lower_diag)"
   ]
  },
  {
   "cell_type": "code",
   "execution_count": 3,
   "id": "43c33b66-7fba-44bd-a0b3-e18efc8f5ea9",
   "metadata": {},
   "outputs": [
    {
     "name": "stdout",
     "output_type": "stream",
     "text": [
      "   0\n",
      "   1    0\n",
      "  -1    1    0\n"
     ]
    }
   ],
   "source": [
    "root = Node(-1)\n",
    "root.right = Node(1)\n",
    "root.top = Node(1)\n",
    "root.top.top = Node(0)\n",
    "root.top.right = Node(0)\n",
    "root.right.right = Node(0)\n",
    "root.right.top = root.top.right\n",
    "print(CoordinateSystem(root))"
   ]
  },
  {
   "cell_type": "code",
   "execution_count": 5,
   "id": "812f9d70-4a03-4269-a54c-b2a2fc8d2bed",
   "metadata": {},
   "outputs": [
    {
     "name": "stdout",
     "output_type": "stream",
     "text": [
      "   4\n",
      "   6    2\n",
      "  98   92   90\n"
     ]
    }
   ],
   "source": [
    "print(CoordinateSystem(generatePascal([Node(4),Node(2),Node(90)])))"
   ]
  },
  {
   "cell_type": "code",
   "execution_count": 8,
   "id": "833ac5e4-9e9d-499c-b36d-d522258be1ec",
   "metadata": {},
   "outputs": [
    {
     "name": "stdout",
     "output_type": "stream",
     "text": [
      "   1\n",
      "   1    0\n",
      "   1    0    0\n",
      "   1    0    0    0\n"
     ]
    }
   ],
   "source": [
    "print(CoordinateSystem(generatePascal([Node(1),Node(0),Node(0),Node(0)])))"
   ]
  },
  {
   "cell_type": "code",
   "execution_count": 9,
   "id": "a63eb50d-2fb3-4632-a36b-9bcf121471ec",
   "metadata": {},
   "outputs": [
    {
     "name": "stdout",
     "output_type": "stream",
     "text": [
      "   0\n",
      "   0    0\n",
      "   0    0    0\n",
      "   0    0    0    0\n",
      "   1    1    1    1    1\n",
      "   0   -1   -2   -3   -4   -5\n",
      "   0    0    1    3    6   10   15\n",
      "   0    0    0   -1   -4  -10  -20  -35\n"
     ]
    }
   ],
   "source": [
    "print(CoordinateSystem(generatePascal([Node(0),Node(0),Node(0),Node(0),Node(1),Node(-5),Node(15),Node(-35)])))"
   ]
  },
  {
   "cell_type": "code",
   "execution_count": 7,
   "id": "b8a5e2a6-2df7-4c5d-9e1e-86a5aab3dc29",
   "metadata": {},
   "outputs": [
    {
     "name": "stdout",
     "output_type": "stream",
     "text": [
      "   0\n",
      "   0    0\n",
      "   0    0    0\n",
      "   1    1    1    1\n",
      "   4    3    2    1    0\n",
      "  10    6    3    1    0    0\n",
      "  20   10    4    1    0    0    0\n",
      "  35   15    5    1    0    0    0    0\n"
     ]
    }
   ],
   "source": [
    "print(CoordinateSystem(generatePascal([0,0,0,1,0,0,0,0])))"
   ]
  },
  {
   "cell_type": "code",
   "execution_count": 6,
   "id": "b06ec48a-4423-4bc8-83c1-01742b11c752",
   "metadata": {},
   "outputs": [
    {
     "name": "stdout",
     "output_type": "stream",
     "text": [
      "   0\n",
      "   0    0\n",
      "   0    0    0\n",
      "   0    0    0    0\n",
      "   0    0    0    0    0\n",
      "   0    0    0    0    0    0\n",
      "   1    1    1    1    1    1    1\n",
      "   7    6    5    4    3    2    1    0\n"
     ]
    }
   ],
   "source": [
    "print(CoordinateSystem(generatePascal([0,0,0,0,0,0,1,0])))"
   ]
  },
  {
   "cell_type": "code",
   "execution_count": null,
   "id": "7d9290ea-5924-4ce7-bc28-01ffd4135abc",
   "metadata": {},
   "outputs": [],
   "source": []
  }
 ],
 "metadata": {
  "kernelspec": {
   "display_name": "Python 3 (ipykernel)",
   "language": "python",
   "name": "python3"
  },
  "language_info": {
   "codemirror_mode": {
    "name": "ipython",
    "version": 3
   },
   "file_extension": ".py",
   "mimetype": "text/x-python",
   "name": "python",
   "nbconvert_exporter": "python",
   "pygments_lexer": "ipython3",
   "version": "3.9.18"
  }
 },
 "nbformat": 4,
 "nbformat_minor": 5
}
