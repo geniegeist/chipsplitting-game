{
 "cells": [
  {
   "cell_type": "code",
   "execution_count": 1,
   "id": "2fc9608d-2bb1-4cdc-a084-f7befeaf869d",
   "metadata": {},
   "outputs": [],
   "source": [
    "import numpy as np\n",
    "from chipsplitting import PascalForm, pairing_matrix, print_matrix"
   ]
  },
  {
   "cell_type": "markdown",
   "id": "bbe238ce-0ec2-4d7c-b602-c9a6aa43f842",
   "metadata": {},
   "source": [
    "We compute example 5.5"
   ]
  },
  {
   "cell_type": "code",
   "execution_count": 2,
   "id": "a6eb4a38-c930-4eae-a959-30e77c5481e1",
   "metadata": {},
   "outputs": [
    {
     "name": "stdout",
     "output_type": "stream",
     "text": [
      "   1    1 \n",
      "   6    2 \n"
     ]
    }
   ],
   "source": [
    "degree = 6\n",
    "units = [0,1]\n",
    "support = [(0,0), (0,4)]\n",
    "P = pairing_matrix(degree, units, support)\n",
    "print_matrix(P)"
   ]
  },
  {
   "cell_type": "code",
   "execution_count": 3,
   "id": "c077e1bb-9ce6-481a-890a-dc98670c08f2",
   "metadata": {},
   "outputs": [
    {
     "name": "stdout",
     "output_type": "stream",
     "text": [
      "   1 \n"
     ]
    }
   ],
   "source": [
    "degree = 6\n",
    "units = [2]\n",
    "support = [(2,0)]\n",
    "P = pairing_matrix(degree, units, support)\n",
    "print_matrix(P)"
   ]
  },
  {
   "cell_type": "code",
   "execution_count": 4,
   "id": "521c73e4-1f52-48d2-885f-b00b1b1f0539",
   "metadata": {},
   "outputs": [
    {
     "name": "stdout",
     "output_type": "stream",
     "text": [
      "   1 \n"
     ]
    }
   ],
   "source": [
    "degree = 6\n",
    "units = [4]\n",
    "support = [(4,1)]\n",
    "P = pairing_matrix(degree, units, support)\n",
    "print_matrix(P)"
   ]
  },
  {
   "cell_type": "code",
   "execution_count": 5,
   "id": "1fea105f-1133-4030-a5b2-1188b68b3046",
   "metadata": {},
   "outputs": [
    {
     "name": "stdout",
     "output_type": "stream",
     "text": [
      "   1 \n"
     ]
    }
   ],
   "source": [
    "degree = 6\n",
    "units = [5]\n",
    "support = [(5,0)]\n",
    "P = pairing_matrix(degree, units, support)\n",
    "print_matrix(P)"
   ]
  },
  {
   "cell_type": "code",
   "execution_count": 6,
   "id": "6cff9db6-fb1e-4840-8ad2-805cae72e4d9",
   "metadata": {},
   "outputs": [
    {
     "name": "stdout",
     "output_type": "stream",
     "text": [
      "   1 \n"
     ]
    }
   ],
   "source": [
    "degree = 6\n",
    "units = [6]\n",
    "support = [(6,0)]\n",
    "P = pairing_matrix(degree, units, support)\n",
    "print_matrix(P)"
   ]
  },
  {
   "cell_type": "code",
   "execution_count": null,
   "id": "7b341da2-d8b4-411e-b877-5dcd6d12d984",
   "metadata": {},
   "outputs": [],
   "source": []
  }
 ],
 "metadata": {
  "kernelspec": {
   "display_name": "Python 3 (ipykernel)",
   "language": "python",
   "name": "python3"
  },
  "language_info": {
   "codemirror_mode": {
    "name": "ipython",
    "version": 3
   },
   "file_extension": ".py",
   "mimetype": "text/x-python",
   "name": "python",
   "nbconvert_exporter": "python",
   "pygments_lexer": "ipython3",
   "version": "3.9.18"
  }
 },
 "nbformat": 4,
 "nbformat_minor": 5
}
