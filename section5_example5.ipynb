{
 "cells": [
  {
   "cell_type": "code",
   "execution_count": 2,
   "id": "2fc9608d-2bb1-4cdc-a084-f7befeaf869d",
   "metadata": {},
   "outputs": [],
   "source": [
    "import numpy as np\n",
    "from chipsplitting import PascalForm, pairing_matrix, print_matrix"
   ]
  },
  {
   "cell_type": "markdown",
   "id": "bbe238ce-0ec2-4d7c-b602-c9a6aa43f842",
   "metadata": {},
   "source": [
    "We compute example 5.5"
   ]
  },
  {
   "cell_type": "code",
   "execution_count": 2,
   "id": "a6eb4a38-c930-4eae-a959-30e77c5481e1",
   "metadata": {},
   "outputs": [
    {
     "name": "stdout",
     "output_type": "stream",
     "text": [
      "   1    1 \n",
      "   6    2 \n"
     ]
    }
   ],
   "source": [
    "degree = 6\n",
    "units = [0,1]\n",
    "support = [(0,0), (0,4)]\n",
    "P = pairing_matrix(degree, units, support)\n",
    "print_matrix(P)"
   ]
  },
  {
   "cell_type": "code",
   "execution_count": 3,
   "id": "c077e1bb-9ce6-481a-890a-dc98670c08f2",
   "metadata": {},
   "outputs": [
    {
     "name": "stdout",
     "output_type": "stream",
     "text": [
      "   1 \n"
     ]
    }
   ],
   "source": [
    "degree = 6\n",
    "units = [2]\n",
    "support = [(2,0)]\n",
    "P = pairing_matrix(degree, units, support)\n",
    "print_matrix(P)"
   ]
  },
  {
   "cell_type": "code",
   "execution_count": 4,
   "id": "521c73e4-1f52-48d2-885f-b00b1b1f0539",
   "metadata": {},
   "outputs": [
    {
     "name": "stdout",
     "output_type": "stream",
     "text": [
      "   1 \n"
     ]
    }
   ],
   "source": [
    "degree = 6\n",
    "units = [4]\n",
    "support = [(4,1)]\n",
    "P = pairing_matrix(degree, units, support)\n",
    "print_matrix(P)"
   ]
  },
  {
   "cell_type": "code",
   "execution_count": 5,
   "id": "1fea105f-1133-4030-a5b2-1188b68b3046",
   "metadata": {},
   "outputs": [
    {
     "name": "stdout",
     "output_type": "stream",
     "text": [
      "   1 \n"
     ]
    }
   ],
   "source": [
    "degree = 6\n",
    "units = [5]\n",
    "support = [(5,0)]\n",
    "P = pairing_matrix(degree, units, support)\n",
    "print_matrix(P)"
   ]
  },
  {
   "cell_type": "code",
   "execution_count": 6,
   "id": "6cff9db6-fb1e-4840-8ad2-805cae72e4d9",
   "metadata": {},
   "outputs": [
    {
     "name": "stdout",
     "output_type": "stream",
     "text": [
      "   1 \n"
     ]
    }
   ],
   "source": [
    "degree = 6\n",
    "units = [6]\n",
    "support = [(6,0)]\n",
    "P = pairing_matrix(degree, units, support)\n",
    "print_matrix(P)"
   ]
  },
  {
   "cell_type": "code",
   "execution_count": 13,
   "id": "7b341da2-d8b4-411e-b877-5dcd6d12d984",
   "metadata": {},
   "outputs": [
    {
     "name": "stdout",
     "output_type": "stream",
     "text": [
      "   1    1    0 \n",
      "  41    0    1 \n",
      " 820    0   20 \n"
     ]
    }
   ],
   "source": [
    "degree = 41\n",
    "k = 20\n",
    "units = [0,1,2]\n",
    "support = [(0,0), (0,degree), (1,k)]\n",
    "P = pairing_matrix(degree, units, support)\n",
    "print_matrix(P)"
   ]
  },
  {
   "cell_type": "code",
   "execution_count": 123,
   "id": "b3bd1a8d-20db-4d8c-b7ea-09e9bb30c4cc",
   "metadata": {},
   "outputs": [
    {
     "data": {
      "text/plain": [
       "[[1, 1, 0, 0, 0, 0],\n",
       " [43, 0, 1, 0, 0, 0],\n",
       " [12341, 0, 210, 0, 0, 0],\n",
       " [1052049481860, 0, 21, 1, 0, 0],\n",
       " [1052049481860, 0, 1, 21, 0, 0],\n",
       " [1, 0, 0, 0, 0, 1]]"
      ]
     },
     "execution_count": 123,
     "metadata": {},
     "output_type": "execute_result"
    }
   ],
   "source": [
    "degree = 43\n",
    "k = 9\n",
    "alpha = int(0.5*(degree-1))\n",
    "units = [0,1,3, alpha, alpha+1,degree]\n",
    "support = [(0,0), (0,degree), (1, alpha), (alpha, 1), (k, degree - k - 1), (degree, 0)]\n",
    "P = pairing_matrix(degree, units, support)\n",
    "P"
   ]
  },
  {
   "cell_type": "code",
   "execution_count": 129,
   "id": "8dbaf62d-bf3b-4490-af93-c7cf23d23adb",
   "metadata": {},
   "outputs": [
    {
     "data": {
      "text/plain": [
       "[[1, 1, 0, 0, 0, 0],\n",
       " [43, 0, 1, 0, 0, 0],\n",
       " [12341, 0, 210, 0, 0, 0],\n",
       " [1052049481860, 0, 21, 1, 1, 0],\n",
       " [1052049481860, 0, 1, 21, 1, 0],\n",
       " [1, 0, 0, 0, 0, 1]]"
      ]
     },
     "execution_count": 129,
     "metadata": {},
     "output_type": "execute_result"
    }
   ],
   "source": [
    "degree = 43\n",
    "alpha = int(0.5*(degree-1))\n",
    "k = alpha\n",
    "units = [0,1,3, alpha, alpha+1,degree]\n",
    "support = [(0,0), (0,degree), (1, alpha), (alpha, 1), (k, degree - k - 1), (degree, 0)]\n",
    "P = pairing_matrix(degree, units, support)\n",
    "P"
   ]
  },
  {
   "cell_type": "code",
   "execution_count": 130,
   "id": "8ab1c8dc-049f-4e59-8149-1297464ec722",
   "metadata": {},
   "outputs": [
    {
     "data": {
      "text/plain": [
       "-66220.00000000019"
      ]
     },
     "execution_count": 130,
     "metadata": {},
     "output_type": "execute_result"
    }
   ],
   "source": [
    "np.linalg.det(P)"
   ]
  },
  {
   "cell_type": "code",
   "execution_count": 126,
   "id": "9221b37b-391e-407b-98db-e88ceba2d114",
   "metadata": {},
   "outputs": [
    {
     "name": "stdout",
     "output_type": "stream",
     "text": [
      "units: [0, 1, 3, 43, 21, 4], det: -3311.000000000011, k: 4\n",
      "units: [0, 1, 3, 43, 21, 5], det: -3311.000000000011, k: 5\n",
      "units: [0, 1, 3, 43, 21, 6], det: -3310.9999999999936, k: 6\n",
      "units: [0, 1, 3, 43, 21, 7], det: -3311.0000000000346, k: 7\n",
      "units: [0, 1, 3, 43, 21, 8], det: -3310.999999999982, k: 8\n",
      "units: [0, 1, 3, 43, 21, 9], det: -3310.999999999999, k: 9\n",
      "units: [0, 1, 3, 43, 21, 10], det: -3310.999999999999, k: 10\n",
      "units: [0, 1, 3, 43, 21, 11], det: -3310.999999999964, k: 11\n",
      "units: [0, 1, 3, 43, 21, 12], det: -3311.000000000423, k: 12\n",
      "units: [0, 1, 3, 43, 21, 13], det: -3310.999999994706, k: 13\n",
      "units: [0, 1, 3, 43, 21, 14], det: -3310.9999999916713, k: 14\n",
      "units: [0, 1, 3, 43, 21, 15], det: -3310.9999999681213, k: 15\n",
      "units: [0, 1, 3, 43, 21, 16], det: -3311.000000123323, k: 16\n",
      "units: [0, 1, 3, 43, 21, 17], det: -3310.9999996473316, k: 17\n",
      "units: [0, 1, 3, 43, 21, 18], det: -3310.9999988499508, k: 18\n",
      "units: [0, 1, 3, 43, 21, 19], det: -3310.999996909262, k: 19\n",
      "units: [0, 1, 3, 43, 21, 22], det: 69531.0000000002, k: 20\n",
      "units: [0, 1, 3, 43, 21, 22], det: 66220.00000000019, k: 21\n",
      "units: [0, 1, 3, 43, 21, 22], det: -3311.000000000011, k: 22\n",
      "units: [0, 1, 3, 43, 21, 23], det: -3311.000000000011, k: 23\n",
      "units: [0, 1, 3, 43, 21, 24], det: -3311.000000000011, k: 24\n",
      "units: [0, 1, 3, 43, 21, 25], det: -3311.000000000011, k: 25\n",
      "units: [0, 1, 3, 43, 21, 26], det: -3310.9999999999877, k: 26\n",
      "units: [0, 1, 3, 43, 21, 27], det: -3311.000000000011, k: 27\n",
      "units: [0, 1, 3, 43, 21, 28], det: -3310.9999999999877, k: 28\n",
      "units: [0, 1, 3, 43, 21, 29], det: -3310.9999999999877, k: 29\n",
      "units: [0, 1, 3, 43, 21, 30], det: -3311.000000000011, k: 30\n",
      "units: [0, 1, 3, 43, 21, 31], det: -3311.000000000011, k: 31\n",
      "units: [0, 1, 3, 43, 21, 32], det: -3311.000000000011, k: 32\n",
      "units: [0, 1, 3, 43, 21, 33], det: -3310.9999999999877, k: 33\n",
      "units: [0, 1, 3, 43, 21, 34], det: -3310.9999999999877, k: 34\n",
      "units: [0, 1, 3, 43, 21, 35], det: -3310.9999999999877, k: 35\n",
      "units: [0, 1, 3, 43, 21, 36], det: -3311.000000000011, k: 36\n",
      "units: [0, 1, 3, 43, 21, 37], det: -3311.000000000011, k: 37\n",
      "units: [0, 1, 3, 43, 21, 38], det: -3310.9999999999877, k: 38\n",
      "Finished\n"
     ]
    }
   ],
   "source": [
    "import itertools\n",
    "\n",
    "degree = 43\n",
    "k_range = range(4, degree-5+1)\n",
    "units_subsets = list(itertools.combinations(list(range(degree + 1)), 6))\n",
    "alpha = int(0.5*(degree-1))\n",
    "\n",
    "for k in k_range:\n",
    "    units = [0,1,3,degree,alpha,k if k != int(0.5*(degree-1)) and k != int(0.5*(degree-1)) - 1 else alpha+1]\n",
    "    support = [(0,0), (0,degree), (degree, 0), (1, int(0.5*(degree-1))), (int(0.5*(degree-1)), 1), (k, degree - k - 1)]\n",
    "    P = pairing_matrix(degree, units, support)\n",
    "    det = np.linalg.det(P)\n",
    "    if abs(det) > 10e-5:\n",
    "        print(f\"units: {units}, det: {det}, k: {k}\")\n",
    "    else:\n",
    "        print(f\"units: {units}, det: {det}, k: {k} ❌\")\n",
    "\n",
    "print(\"Finished\")"
   ]
  },
  {
   "cell_type": "code",
   "execution_count": 80,
   "id": "2b00f165-324e-43c5-b502-5e310d437944",
   "metadata": {},
   "outputs": [
    {
     "name": "stdout",
     "output_type": "stream",
     "text": [
      "units: [0, 1, 3, 45, 22, 4], det: -3795.0000000000086, k: 4\n",
      "units: [0, 1, 3, 45, 22, 5], det: -3795.0000000000155, k: 5\n",
      "units: [0, 1, 3, 45, 22, 6], det: -3795.0000000000023, k: 6\n",
      "units: [0, 1, 3, 45, 22, 7], det: -3795.0000000000155, k: 7\n",
      "units: [0, 1, 3, 45, 22, 8], det: -3794.9999999999955, k: 8\n",
      "units: [0, 1, 3, 45, 22, 9], det: -3795.0000000000086, k: 9\n",
      "units: [0, 1, 3, 45, 22, 10], det: -3794.999999999955, k: 10\n",
      "units: [0, 1, 3, 45, 22, 11], det: -3794.9999999995775, k: 11\n",
      "units: [0, 1, 3, 45, 22, 12], det: -3794.9999999992, k: 12\n",
      "units: [0, 1, 3, 45, 22, 13], det: -3794.999999999146, k: 13\n",
      "units: [0, 1, 3, 45, 22, 14], det: -3794.9999999959373, k: 14\n",
      "units: [0, 1, 3, 45, 22, 15], det: -3794.9999999907463, k: 15\n",
      "units: [0, 1, 3, 45, 22, 16], det: -3794.999999944636, k: 16\n",
      "units: [0, 1, 3, 45, 22, 17], det: -3794.9999997128307, k: 17\n",
      "units: [0, 1, 3, 45, 22, 18], det: -3795.0000011918796, k: 18\n",
      "units: [0, 1, 3, 45, 22, 19], det: -3794.999996497, k: 19\n",
      "units: [0, 1, 3, 45, 22, 20], det: -3795.0000128889883, k: 20\n",
      "units: [0, 1, 3, 45, 22, 21], det: -3795.0000000000223, k: 21\n",
      "units: [0, 1, 3, 45, 22, 22], det: -3.4839922310228386e-30, k: 22 ❌\n",
      "units: [0, 1, 3, 45, 22, 23], det: -3795.0000000000086, k: 23\n",
      "units: [0, 1, 3, 45, 22, 24], det: -3795.0000000000086, k: 24\n",
      "units: [0, 1, 3, 45, 22, 25], det: -3795.0000000000086, k: 25\n",
      "units: [0, 1, 3, 45, 22, 26], det: -3795.0000000000086, k: 26\n",
      "units: [0, 1, 3, 45, 22, 27], det: -3795.0000000000086, k: 27\n",
      "units: [0, 1, 3, 45, 22, 28], det: -3795.0000000000086, k: 28\n",
      "units: [0, 1, 3, 45, 22, 29], det: -3795.000000000036, k: 29\n",
      "units: [0, 1, 3, 45, 22, 30], det: -3795.0000000000086, k: 30\n",
      "units: [0, 1, 3, 45, 22, 31], det: -3795.0000000000086, k: 31\n",
      "units: [0, 1, 3, 45, 22, 32], det: -3795.0000000000086, k: 32\n",
      "units: [0, 1, 3, 45, 22, 33], det: -3795.0000000000086, k: 33\n",
      "units: [0, 1, 3, 45, 22, 34], det: -3795.0000000000086, k: 34\n",
      "units: [0, 1, 3, 45, 22, 35], det: -3795.0000000000086, k: 35\n",
      "units: [0, 1, 3, 45, 22, 36], det: -3795.0000000000086, k: 36\n",
      "units: [0, 1, 3, 45, 22, 37], det: -3795.0000000000086, k: 37\n",
      "units: [0, 1, 3, 45, 22, 38], det: -3795.0000000000086, k: 38\n",
      "units: [0, 1, 3, 45, 22, 39], det: -3795.0000000000086, k: 39\n",
      "units: [0, 1, 3, 45, 22, 40], det: -3795.0000000000086, k: 40\n",
      "Finished\n"
     ]
    }
   ],
   "source": [
    "import itertools\n",
    "\n",
    "degree = 45\n",
    "k_range = range(4, degree-5+1)\n",
    "units_subsets = list(itertools.combinations(list(range(degree + 1)), 6))\n",
    "\n",
    "for k in k_range:\n",
    "    units = [0,1,3,degree,int(0.5*(degree-1)),k]\n",
    "    support = [(0,0), (0,degree), (degree, 0), (1, int(0.5*(degree-1))), (int(0.5*(degree-1)), 1), (k, degree - k - 1)]\n",
    "    P = pairing_matrix(degree, units, support)\n",
    "    det = np.linalg.det(P)\n",
    "    if abs(det) > 10e-5:\n",
    "        print(f\"units: {units}, det: {det}, k: {k}\")\n",
    "    else:\n",
    "        print(f\"units: {units}, det: {det}, k: {k} ❌\")\n",
    "\n",
    "print(\"Finished\")"
   ]
  },
  {
   "cell_type": "code",
   "execution_count": 23,
   "id": "25694d03-ad23-4dfc-b0a0-00c5d83805d9",
   "metadata": {},
   "outputs": [
    {
     "data": {
      "text/plain": [
       "[4, 5, 6, 7, 8]"
      ]
     },
     "execution_count": 23,
     "metadata": {},
     "output_type": "execute_result"
    }
   ],
   "source": [
    "import itertools\n",
    "\n",
    "# List to find subsets\n",
    "lst = [1, 2, 3, 4, 5, 6]\n",
    "\n",
    "# Generate all 3-element subsets\n",
    "subsets = list(itertools.combinations(lst, 3))"
   ]
  },
  {
   "cell_type": "code",
   "execution_count": 61,
   "id": "baf5fcdf-531b-41b2-8889-f238f414ba35",
   "metadata": {},
   "outputs": [
    {
     "name": "stdout",
     "output_type": "stream",
     "text": [
      "units: [0, 1, 43, 21, 4, 2], det: 1.174429251478252e-13\n",
      "units: [0, 1, 43, 21, 4, 3], det: 3311.000000000011\n",
      "units: [0, 1, 43, 21, 4, 5], det: 639022.9999999999\n",
      "units: [0, 1, 43, 21, 4, 6], det: 5221447.0\n",
      "units: [0, 1, 43, 21, 4, 7], det: 29890762.000000075\n",
      "units: [0, 1, 43, 21, 4, 8], det: 140008473.0000001\n",
      "units: [0, 1, 43, 21, 4, 9], det: 555171925.0000037\n",
      "units: [0, 1, 43, 21, 4, 10], det: 1904695793.0000057\n",
      "units: [0, 1, 43, 21, 4, 11], det: 5736837561.000042\n",
      "units: [0, 1, 43, 21, 4, 12], det: 15323511476.000084\n",
      "units: [0, 1, 43, 21, 4, 13], det: 36564209177.99995\n",
      "units: [0, 1, 43, 21, 4, 14], det: 78370210290.00035\n",
      "units: [0, 1, 43, 21, 4, 15], det: 151527656656.00027\n",
      "units: [0, 1, 43, 21, 4, 16], det: 265179815865.99994\n",
      "units: [0, 1, 43, 21, 4, 17], det: 421170773751.00104\n",
      "units: [0, 1, 43, 21, 4, 18], det: 608358790851.0045\n",
      "units: [0, 1, 43, 21, 4, 19], det: 800472374660.0045\n",
      "units: [0, 1, 43, 21, 4, 20], det: 960566909190.0026\n",
      "units: [0, 1, 43, 21, 4, 22], det: -21040989618280.062\n",
      "units: [0, 1, 43, 21, 4, 23], det: -219969824082751.25\n",
      "units: [0, 1, 43, 21, 4, 24], det: -1398425337240968.0\n",
      "units: [0, 1, 43, 21, 4, 25], det: -6295907784479507.0\n",
      "units: [0, 1, 43, 21, 4, 26], det: -2.140773371634532e+16\n",
      "units: [0, 1, 43, 21, 4, 27], det: -5.708814785250169e+16\n",
      "units: [0, 1, 43, 21, 4, 28], det: -1.2233216211302342e+17\n",
      "units: [0, 1, 43, 21, 4, 29], det: -2.1408147050098013e+17\n",
      "units: [0, 1, 43, 21, 4, 30], det: -3.092288673608444e+17\n",
      "units: [0, 1, 43, 21, 4, 31], det: -3.7107466938655366e+17\n",
      "units: [0, 1, 43, 21, 4, 32], det: -3.710746789732283e+17\n",
      "units: [0, 1, 43, 21, 4, 33], det: -3.092289020203567e+17\n",
      "units: [0, 1, 43, 21, 4, 34], det: -2.1408154831601888e+17\n",
      "units: [0, 1, 43, 21, 4, 35], det: -1.2233231350067162e+17\n",
      "units: [0, 1, 43, 21, 4, 36], det: -5.708841300242681e+16\n",
      "units: [0, 1, 43, 21, 4, 37], det: -2.1408154881897704e+16\n",
      "units: [0, 1, 43, 21, 4, 38], det: -6296516142565072.0\n",
      "units: [0, 1, 43, 21, 4, 39], det: -1399225809549407.0\n",
      "units: [0, 1, 43, 21, 4, 40], det: -220930390988630.22\n",
      "units: [0, 1, 43, 21, 4, 41], det: -22093039099194.15\n",
      "units: [0, 1, 43, 21, 4, 42], det: -1052049480914.0074\n"
     ]
    }
   ],
   "source": [
    "degree = 43\n",
    "k = 4\n",
    "units_prefix = [0,1,degree,int(0.5*(degree-1)),k]\n",
    "support = [(0,0), (0,degree), (degree, 0), (1, int(0.5*(degree-1))), (int(0.5*(degree-1)), 1), (k, degree - k - 1)]\n",
    "\n",
    "for u in range(degree+1):\n",
    "    units = units_prefix + [u]\n",
    "    if len(set(units)) != 6:\n",
    "        continue\n",
    "    P = pairing_matrix(degree, units, support)\n",
    "    det = np.linalg.det(P)\n",
    "    if det != 0:\n",
    "        print(f\"units: {units}, det: {det}\")\n",
    "    else:\n",
    "        print(det)"
   ]
  },
  {
   "cell_type": "code",
   "execution_count": 70,
   "id": "2a01b981-04cd-40fe-b1fe-f06ad18d8d80",
   "metadata": {},
   "outputs": [
    {
     "name": "stdout",
     "output_type": "stream",
     "text": [
      "units: [0, 1, 3, 4, 25, 12], det: -649.9999999999993\n"
     ]
    }
   ],
   "source": [
    "degree = 25\n",
    "k = 4\n",
    "support = [(0,0), (0,degree), (degree, 0), (1, int(0.5*(degree-1))), (int(0.5*(degree-1)), 1), (k, degree - k - 1)]\n",
    "units = [0,1,3,k,degree,int(0.5*(degree-1))]\n",
    "P = pairing_matrix(degree, units, support)\n",
    "det = np.linalg.det(P)\n",
    "if det != 0:\n",
    "    print(f\"units: {units}, det: {det}\")\n",
    "else:\n",
    "    print(det)"
   ]
  },
  {
   "cell_type": "code",
   "execution_count": null,
   "id": "e470b87d-82f8-432b-b4b6-a6a976afdda0",
   "metadata": {},
   "outputs": [],
   "source": [
    "# determinant of [[1,1,0,0,0,0], [d,0,1,0,0,0], [(d choose 3), 0, ((d-1-t) choose 2),0,0,0], [(d choose t), 0, n, 1, 0, 0], [(d choose k), 0, ((d -1-t) choose (k-1)), 0, 1, 0], [1,0,0,0,0,1]]"
   ]
  }
 ],
 "metadata": {
  "kernelspec": {
   "display_name": "Python 3 (ipykernel)",
   "language": "python",
   "name": "python3"
  },
  "language_info": {
   "codemirror_mode": {
    "name": "ipython",
    "version": 3
   },
   "file_extension": ".py",
   "mimetype": "text/x-python",
   "name": "python",
   "nbconvert_exporter": "python",
   "pygments_lexer": "ipython3",
   "version": "3.9.18"
  }
 },
 "nbformat": 4,
 "nbformat_minor": 5
}
