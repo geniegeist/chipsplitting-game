{
 "cells": [
  {
   "cell_type": "code",
   "execution_count": 73,
   "id": "ffd439e8-21dd-49c7-9fb4-7c3c0f4a64b5",
   "metadata": {},
   "outputs": [],
   "source": [
    "import time\n",
    "import json\n",
    "import numpy as np\n",
    "import sympy as sp\n",
    "from itertools import combinations\n",
    "import chipsplitting.hyperfield.utils as utils\n",
    "from chipsplitting import PascalForm\n",
    "from chipsplitting.hyperfield import (\n",
    "    HyperfieldPascalForm as HVPascal, \n",
    "    HyperfieldHomogeneousLinearSystem as HVLinearSystem,\n",
    "    HyperfieldVector\n",
    ")\n",
    "from chipsplitting import pairing_matrix, print_matrix, PascalForm"
   ]
  },
  {
   "cell_type": "markdown",
   "id": "917ef451-eff5-4d17-9071-87d6154e9c57",
   "metadata": {},
   "source": [
    "## Utils"
   ]
  },
  {
   "cell_type": "code",
   "execution_count": 277,
   "id": "ee776750-429b-4b3e-adf9-585515de4070",
   "metadata": {},
   "outputs": [],
   "source": [
    "# utils\n",
    "def save_fundamental_models(model, json_file_name):\n",
    "    with open(json_file_name, 'w') as json_file:\n",
    "        json.dump([{\"support\": supp, \"solution\": [x for x in list(solution_set)[0]] if len(solution_set) > 0 else [] } for supp, solution_set in model], json_file, default=float)\n",
    "    \n",
    "    print(f\"JSON dump has been written to {json_file_name}\")\n",
    "\n",
    "def create_symbols(n):\n",
    "    # Create a string pattern for n symbols w0, w1, ..., wn-1\n",
    "    pattern = ' '.join(f'w{i}' for i in range(n))\n",
    "    # Create the symbols using the pattern\n",
    "    symbols = sp.symbols(pattern)\n",
    "    return symbols\n",
    "\n",
    "# compute_coefficients is not used currently\n",
    "def compute_coefficients(mode, n):\n",
    "    coeff = {}\n",
    "    if mode == \"1-t\":\n",
    "        for k in range(n + 1):\n",
    "            coeff[f\"t{k}\"] = comb(n,k) * (-1)**(k)\n",
    "        return coeff\n",
    "    elif mode == \"t\":\n",
    "        for k in range(n + 1):\n",
    "            coeff[f\"t{k}\"] = 1 if k == n else 0\n",
    "        return coeff\n",
    "    else:\n",
    "        raise ValueError()\n",
    "        \n",
    "def create_w_symbols(n):\n",
    "    # Create a string pattern for n + 1 symbols\n",
    "    pattern = ' '.join(f'w{i}' for i in range(n))\n",
    "    # Create the symbols using the pattern\n",
    "    symbols = sp.symbols(pattern)\n",
    "    return symbols\n",
    "\n",
    "def get_linear_equations(support):\n",
    "    t = sp.symbols('t')\n",
    "    ws = create_w_symbols(len(support))\n",
    "    eqn = 0\n",
    "    for index, coord in enumerate(support):\n",
    "        col, row = coord\n",
    "        expression = ws[index] * t**col * (1 - t)**row\n",
    "        expanded_expression = sp.expand(expression)\n",
    "        eqn += expanded_expression\n",
    "    eqn += -1\n",
    "    return eqn\n",
    "\n",
    "def max_degree(support):\n",
    "    max_degree = 0\n",
    "    for col, row in support:\n",
    "        if col + row > max_degree:\n",
    "            max_degree = col + row\n",
    "    return max_degree\n",
    "\n",
    "def contains_var(sol):\n",
    "    for x in sol:\n",
    "        if not x.is_number:\n",
    "            return True\n",
    "    return False\n",
    "    \n",
    "def is_valid_solution_set(solutions):\n",
    "    #if not solutions:\n",
    "    #    return False\n",
    "    for sol in solutions:\n",
    "        if contains_var(sol):\n",
    "            return False\n",
    "    return True\n",
    "\n",
    "def create_augmented_matrix(num_vars, equations):\n",
    "    ws = create_symbols(num_vars)\n",
    "    matrix = []\n",
    "    b = []\n",
    "    \n",
    "    for eqn in equations:\n",
    "        row = []\n",
    "        for w in ws:\n",
    "            coeff = eqn.coeff(w)\n",
    "            row.append(coeff)\n",
    "        matrix.append(row)\n",
    "        \n",
    "        constant = eqn.as_independent(*ws)[0]\n",
    "        b.append(constant)\n",
    "\n",
    "    A = np.array(matrix, dtype='float64')\n",
    "    b = np.array(b, dtype='float64').reshape(len(b), 1)\n",
    "    augmented = np.concatenate((A, b), axis = 1)\n",
    "    return augmented\n",
    "\n",
    "def create_matrix(num_vars, equations):\n",
    "    ws = create_symbols(num_vars)\n",
    "    matrix = []\n",
    "    \n",
    "    for eqn in equations:\n",
    "        row = []\n",
    "        for w in ws:\n",
    "            coeff = eqn.coeff(w)\n",
    "            row.append(coeff)\n",
    "        matrix.append(row)\n",
    "\n",
    "    A = np.array(matrix, dtype=\"float\")\n",
    "    return A\n",
    "\n",
    "def create_b(num_vars, equations):\n",
    "    ws = create_symbols(num_vars)\n",
    "    b = []\n",
    "    \n",
    "    for eqn in equations:\n",
    "        constant = eqn.as_independent(*ws)[0]\n",
    "        b.append(constant)\n",
    "\n",
    "    b = np.array(b, dtype='float')\n",
    "    return -b\n",
    "\n",
    "def is_fundamental(support_as_index):\n",
    "    t = sp.symbols('t')\n",
    "    support = [utils.to_coordinate(s) for s in support_as_index]\n",
    "    ws = create_w_symbols(len(support))\n",
    "    max_power_t = max_degree(support)\n",
    "    expression = get_linear_equations(support)\n",
    "    linear_equations = {}\n",
    "    \n",
    "    for power in range(max_power_t + 1):\n",
    "        coeff = expression.coeff(t, power)\n",
    "        linear_equations[f\"t{power}\"] = coeff\n",
    "    \n",
    "    system = list(linear_equations.values())\n",
    "\n",
    "    # if len(system) < len(ws):\n",
    "    #     return (False, None)\n",
    "\n",
    "    # augmented = create_augmented_matrix(len(ws), system)\n",
    "    # matrix = create_matrix(len(ws), system)\n",
    "    # if np.linalg.matrix_rank(matrix) < len(ws):\n",
    "    #    return (False, None)\n",
    "\n",
    "    #b = create_b(len(ws), system)\n",
    "    #pinv_matrix = np.linalg.pinv(matrix)\n",
    "    #solution = np.dot(pinv_matrix, b)\n",
    "\n",
    "    solution_set = sp.linsolve(system, *ws)\n",
    "    is_valid = is_valid_solution_set(solution_set)\n",
    "    \n",
    "    return (is_valid, solution_set if is_valid else None)"
   ]
  },
  {
   "cell_type": "markdown",
   "id": "3f2879fe-515b-4c2d-bfd2-119bdf0fc365",
   "metadata": {},
   "source": [
    "**Task**: For $\\Delta_2$, find all positive supports of size $3$ of valid hyperfield configurations of degree $d = 1,2,3$."
   ]
  },
  {
   "cell_type": "markdown",
   "id": "f020873b-f453-4ba8-b609-3ec5e716a63e",
   "metadata": {},
   "source": [
    "## Compute possible supports of fundamental models\n",
    "\n",
    "Iterating through all possible supports is not feasible. Luckily, we can exclude invalid supports using the invertibility criterion."
   ]
  },
  {
   "cell_type": "code",
   "execution_count": 3,
   "id": "78e93a6f-725a-417f-8f1f-baee84bb072a",
   "metadata": {},
   "outputs": [],
   "source": [
    "possible_supports = {}\n",
    "\n",
    "def find_positive_supports(pos_support_size, mode = \"fast\", expand = False):\n",
    "    degree_end = 2 * pos_support_size - 3\n",
    "    # hyperfield variety generated by all pascal equations\n",
    "    S = {}\n",
    "    for d in range(1, degree_end + 1):\n",
    "        num_cells = utils.gauss(d+1)\n",
    "        # positive cells are all cells except the (0,0) cell\n",
    "        num_pos_cells = num_cells - 1\n",
    "        if num_pos_cells < pos_support_size:\n",
    "            continue\n",
    "            \n",
    "        base_types = [\"diag\", \"row\", \"col\"]\n",
    "        A = [HVPascal(d, b, k) for b in base_types for k in range(d + 1)]\n",
    "        linear_system = HVLinearSystem(A)\n",
    "        \n",
    "        # I believe quick_solve_loop has a bug\n",
    "        if mode == \"fast\":\n",
    "            solutions = linear_system.quick_solve_loop(pos_support_size)\n",
    "        else:\n",
    "            solutions = linear_system.quick_solve(pos_support_size)\n",
    "        \n",
    "        if expand:\n",
    "            def expand_solution(sol):\n",
    "                num_selections = pos_support_size - len(sol)\n",
    "                assert num_selections > 0\n",
    "                domain = [x for x in range(utils.gauss(d + 1)) if x not in sol]\n",
    "                combi_from_domain = list(combinations(domain, num_selections))\n",
    "                return [tuple(sorted(sol + c)) for c in combi_from_domain]\n",
    "\n",
    "            expanded_solutions = [sol for sol in solutions if len(sol) == pos_support_size]\n",
    "            for sol in [sol for sol in solutions if len(sol) < pos_support_size]:\n",
    "                expanded_solutions += expand_solution(sol)\n",
    "            solutions = list(set(expanded_solutions))\n",
    "        \n",
    "        S[d] = solutions\n",
    "        print(f\"d={d}, #solutions={len(solutions)}\")\n",
    "    return S\n",
    "\n",
    "def apply_symmetry(config):\n",
    "    def swap(tuple):\n",
    "        return (tuple[1], tuple[0])\n",
    "    def to_array_index(tuple):\n",
    "        return utils.get_array_index(tuple[0], tuple[1])\n",
    "    return tuple(sorted([to_array_index(swap(utils.to_coordinate(index))) for index in config]))"
   ]
  },
  {
   "cell_type": "code",
   "execution_count": 85,
   "id": "c221f611-7323-44f9-9c2b-17c359b7ea50",
   "metadata": {
    "scrolled": true
   },
   "outputs": [
    {
     "name": "stdout",
     "output_type": "stream",
     "text": [
      "\n",
      "n=6\n",
      "d=3, #solutions=89\n",
      "d=4, #solutions=2431\n",
      "d=5, #solutions=21136\n",
      "d=6, #solutions=104439\n",
      "d=7, #solutions=360471\n",
      "d=8, #solutions=982891\n",
      "d=9, #solutions=2319165\n",
      "d=10, #solutions=4854071\n",
      "d=11, #solutions=9418679\n",
      "Reducing possible solutions by applying symmetry...\n",
      "\n",
      "n=6\n",
      "d=3, #solutions=48\n",
      "d=4, #solutions=1226\n",
      "d=5, #solutions=10635\n",
      "d=6, #solutions=52284\n",
      "d=7, #solutions=180527\n",
      "d=8, #solutions=491601\n",
      "d=9, #solutions=1160287\n",
      "d=10, #solutions=2427353\n",
      "d=11, #solutions=4710754\n"
     ]
    }
   ],
   "source": [
    "n_begin = 6\n",
    "n_end = 6\n",
    "for pos_support_size in range(n_begin + 1, n_end + 2):\n",
    "    print()\n",
    "    print(f\"n={pos_support_size - 1}\")\n",
    "    possible_supports[pos_support_size] = find_positive_supports(pos_support_size, mode = \"fast\", expand = True)\n",
    "\n",
    "print(\"Reducing possible solutions by applying symmetry...\")\n",
    "\n",
    "possible_supports_copy = possible_supports.copy()\n",
    "\n",
    "for n, d_to_solutions in possible_supports.items():\n",
    "    d_to_solutions_copy = {}\n",
    "    for d, solutions in d_to_solutions.items():\n",
    "        solutions_copy = set()\n",
    "        for config in solutions:\n",
    "            if apply_symmetry(config) not in solutions_copy:\n",
    "                solutions_copy.add(config)\n",
    "        d_to_solutions_copy[d] = list(solutions_copy)\n",
    "    possible_supports_copy[n] = d_to_solutions_copy\n",
    "\n",
    "possible_supports = possible_supports_copy\n",
    "\n",
    "for n, d_to_solutions in possible_supports.items():\n",
    "    print(\"\")\n",
    "    print(f\"n={n-1}\")\n",
    "    for d, solutions in d_to_solutions.items():\n",
    "        print(f\"d={d}, #solutions={len(solutions)}\")"
   ]
  },
  {
   "cell_type": "code",
   "execution_count": 292,
   "id": "de88338f-f65f-4698-9091-bed1e66ebcc8",
   "metadata": {},
   "outputs": [
    {
     "name": "stdout",
     "output_type": "stream",
     "text": [
      "JSON dump has been written to section8_n6_possible_supports.json\n"
     ]
    }
   ],
   "source": [
    "json_file_name = \"section8_n6_possible_supports.json\"\n",
    "with open(json_file_name, 'w') as json_file:\n",
    "    json.dump(possible_supports, json_file, default=int)\n",
    "\n",
    "print(f\"JSON dump has been written to {json_file_name}\")\n"
   ]
  },
  {
   "cell_type": "code",
   "execution_count": 64,
   "id": "50e5afd7-f67e-4dce-9a16-d67b50f89468",
   "metadata": {},
   "outputs": [],
   "source": [
    "def check_solution_set(solution_set):\n",
    "    if len(solution_set) != 1:\n",
    "        return False\n",
    "    \n",
    "    for solution in solution_set:\n",
    "        for x in solution:\n",
    "            if x <= 0:\n",
    "                return False\n",
    "\n",
    "    return True\n",
    "\n",
    "def filter_fundamental_models(fundamental_models):\n",
    "    return [(support, solution_set) for support, solution_set in fundamental_models if check_solution_set(solution_set)]\n",
    "\n",
    "def find_fundamental_models(n, degrees):\n",
    "    if isinstance(degrees, int):\n",
    "        degrees = [degrees]\n",
    "        \n",
    "    fundamental_models = []\n",
    "    \n",
    "    for d in degrees:\n",
    "        start = time.time()\n",
    "        supports_to_check = possible_supports[n + 1][d]\n",
    "\n",
    "        print(\"\")\n",
    "        print(f\"d={d}: {len(supports_to_check)} supports to check\")\n",
    "\n",
    "        for index, support in enumerate(supports_to_check):\n",
    "            if index == 100:\n",
    "                elapsed = time.time() - start\n",
    "                print(f\"Processed 100 items. Elapsed time: {round(elapsed, 2)}s. Estimate: {round(len(supports_to_check) / 100 * elapsed / 60, 2)}min\")\n",
    "                \n",
    "            is_valid, solution = is_fundamental(support) \n",
    "            if is_valid:\n",
    "                fundamental_models.append((support, solution))\n",
    "\n",
    "        end = time.time()\n",
    "        print(f\"Processed all items. Elapsed time: {round(end - start, 2)}s\")\n",
    "\n",
    "    return fundamental_models"
   ]
  },
  {
   "cell_type": "markdown",
   "id": "ba197929-cd9a-4624-93f6-4f12fc0c8df5",
   "metadata": {},
   "source": [
    "## Run computations for $n=6$"
   ]
  },
  {
   "cell_type": "markdown",
   "id": "05029a77-0988-4c7b-bb96-df26cc74dc8d",
   "metadata": {},
   "source": [
    "### $d=3,4,5$"
   ]
  },
  {
   "cell_type": "code",
   "execution_count": 270,
   "id": "110239ea-2aa8-4aab-b044-313e97b6ca49",
   "metadata": {},
   "outputs": [
    {
     "name": "stdout",
     "output_type": "stream",
     "text": [
      "\n",
      "d=3: 48 supports to check\n",
      "Processed all items. Elapsed time: 0.07s\n",
      "\n",
      "d=4: 1226 supports to check\n",
      "Processed 100 items. Elapsed time: 0.09s. Estimate: 0.02min\n",
      "Processed all items. Elapsed time: 1.02s\n",
      "\n",
      "d=5: 10635 supports to check\n",
      "Processed 100 items. Elapsed time: 0.11s. Estimate: 0.19min\n",
      "Processed all items. Elapsed time: 11.09s\n",
      "\n",
      "Found 0 potential fundamental models\n"
     ]
    }
   ],
   "source": [
    "fundamental_models = find_fundamental_models(6, [3,4,5])\n",
    "print()\n",
    "print(f\"Found {len(fundamental_models)} potential fundamental models\")"
   ]
  },
  {
   "cell_type": "markdown",
   "id": "b66a5813-1dbd-425a-bb65-be22f4c459bb",
   "metadata": {},
   "source": [
    "### $d=6$"
   ]
  },
  {
   "cell_type": "code",
   "execution_count": 278,
   "id": "5376ff14-7aea-42b1-9b91-93d0237ec885",
   "metadata": {},
   "outputs": [
    {
     "name": "stdout",
     "output_type": "stream",
     "text": [
      "\n",
      "d=6: 52284 supports to check\n",
      "Processed 100 items. Elapsed time: 0.22s. Estimate: 1.9min\n",
      "Processed all items. Elapsed time: 98.06s\n",
      "Found 50342 potential fundamental models\n"
     ]
    }
   ],
   "source": [
    "n = 6\n",
    "d = 6\n",
    "fundamental_models = find_fundamental_models(n, d)\n",
    "print(f\"Found {len(fundamental_models)} potential fundamental models\")"
   ]
  },
  {
   "cell_type": "code",
   "execution_count": 279,
   "id": "cfbba309-d3bd-4c1b-854d-1d9d8fceb299",
   "metadata": {},
   "outputs": [
    {
     "name": "stdout",
     "output_type": "stream",
     "text": [
      "After filtering non-positive solutions, 3370 fundamental models were found.\n",
      "After considering symmetric solutions, additional 3340 fundamental models were found.\n",
      "We found 6710 fundamental models.\n"
     ]
    }
   ],
   "source": [
    "filtered = filter_fundamental_models(fundamental_models)\n",
    "print(f\"After filtering non-positive solutions, {len(filtered)} fundamental models were found.\")\n",
    "symmetric = [support for support, w in filtered if support != apply_symmetry(support)]\n",
    "print(f\"After considering symmetric solutions, additional {len(symmetric)} fundamental models were found.\")\n",
    "print(f\"We found {len(filtered) + len(symmetric)} fundamental models.\")"
   ]
  },
  {
   "cell_type": "code",
   "execution_count": 268,
   "id": "d0a93ebf-40f1-41df-b8b0-cf7b0b4f0a9c",
   "metadata": {},
   "outputs": [
    {
     "name": "stdout",
     "output_type": "stream",
     "text": [
      "JSON dump has been written to section8_n6_d6.json\n"
     ]
    }
   ],
   "source": [
    "save_fundamental_models(fundamental_models, f\"section8_n{n}_d{d}.json\")"
   ]
  },
  {
   "cell_type": "markdown",
   "id": "2bc33bd9-689d-4046-bdf9-4f84b2fee78f",
   "metadata": {},
   "source": [
    "### $d=7$"
   ]
  },
  {
   "cell_type": "code",
   "execution_count": 258,
   "id": "cd66ca2b-8a87-4cff-b8f5-44bc290d5adb",
   "metadata": {},
   "outputs": [
    {
     "name": "stdout",
     "output_type": "stream",
     "text": [
      "\n",
      "d=7: 180527 supports to check\n",
      "Processed 100 items. Elapsed time: 0.3s. Estimate: 9.13min\n",
      "Processed all items. Elapsed time: 468.66s\n",
      "Found 165719 potential fundamental models\n"
     ]
    }
   ],
   "source": [
    "n = 6\n",
    "d = 7\n",
    "fundamental_models = find_fundamental_models(n, d)\n",
    "print(f\"Found {len(fundamental_models)} potential fundamental models\")"
   ]
  },
  {
   "cell_type": "code",
   "execution_count": 259,
   "id": "5515befb-7ce8-4fb8-9e7e-9bf60ecc6a9f",
   "metadata": {},
   "outputs": [
    {
     "name": "stdout",
     "output_type": "stream",
     "text": [
      "After filtering non-positive solutions, 1250 fundamental models were found.\n",
      "After considering symmetric solutions, additional 1171 fundamental models were found.\n",
      "We found 2421 fundamental models.\n"
     ]
    }
   ],
   "source": [
    "filtered = filter_fundamental_models(fundamental_models)\n",
    "print(f\"After filtering non-positive solutions, {len(filtered)} fundamental models were found.\")\n",
    "symmetric = [support for support, w in filtered if support != apply_symmetry(support)]\n",
    "print(f\"After considering symmetric solutions, additional {len(symmetric)} fundamental models were found.\")\n",
    "print(f\"We found {len(filtered) + len(symmetric)} fundamental models.\")"
   ]
  },
  {
   "cell_type": "code",
   "execution_count": 264,
   "id": "bb9dbbe8-0a37-4afb-8668-264d4e909f99",
   "metadata": {},
   "outputs": [
    {
     "name": "stdout",
     "output_type": "stream",
     "text": [
      "JSON dump has been written to section8_n6_d7.json\n"
     ]
    }
   ],
   "source": [
    "save_fundamental_models(fundamental_models, f\"section8_n{n}_d{d}.json\")"
   ]
  },
  {
   "cell_type": "markdown",
   "id": "5cdf6577-04fb-45d3-9a80-4affdc664d93",
   "metadata": {},
   "source": [
    "### $d=8$"
   ]
  },
  {
   "cell_type": "code",
   "execution_count": 271,
   "id": "f369b688-df66-426b-b555-cfd7a183c922",
   "metadata": {},
   "outputs": [
    {
     "name": "stdout",
     "output_type": "stream",
     "text": [
      "\n",
      "d=8: 491601 supports to check\n",
      "Processed 100 items. Elapsed time: 0.31s. Estimate: 25.44min\n",
      "Processed all items. Elapsed time: 1353.29s\n",
      "Found 472294 potential fundamental models\n"
     ]
    }
   ],
   "source": [
    "n = 6\n",
    "d = 8\n",
    "fundamental_models = find_fundamental_models(n, d)\n",
    "print(f\"Found {len(fundamental_models)} potential fundamental models\")"
   ]
  },
  {
   "cell_type": "code",
   "execution_count": 272,
   "id": "a597c283-acec-46d5-baa9-7913726caa3a",
   "metadata": {},
   "outputs": [
    {
     "name": "stdout",
     "output_type": "stream",
     "text": [
      "After filtering non-positive solutions, 324 fundamental models were found.\n",
      "After considering symmetric solutions, additional 319 fundamental models were found.\n",
      "We found 643 fundamental models.\n"
     ]
    }
   ],
   "source": [
    "filtered = filter_fundamental_models(fundamental_models)\n",
    "print(f\"After filtering non-positive solutions, {len(filtered)} fundamental models were found.\")\n",
    "symmetric = [support for support, w in filtered if support != apply_symmetry(support)]\n",
    "print(f\"After considering symmetric solutions, additional {len(symmetric)} fundamental models were found.\")\n",
    "print(f\"We found {len(filtered) + len(symmetric)} fundamental models.\")"
   ]
  },
  {
   "cell_type": "code",
   "execution_count": 273,
   "id": "791c5fec-5fc9-4582-b420-5d8b71f12b27",
   "metadata": {},
   "outputs": [
    {
     "name": "stdout",
     "output_type": "stream",
     "text": [
      "JSON dump has been written to section8_n6_d8.json\n"
     ]
    }
   ],
   "source": [
    "save_fundamental_models(fundamental_models, f\"section8_n{n}_d{d}.json\")"
   ]
  },
  {
   "cell_type": "markdown",
   "id": "fd85c51f-1690-4982-8c0a-b02b55a4a59a",
   "metadata": {},
   "source": [
    "### $d = 9$"
   ]
  },
  {
   "cell_type": "code",
   "execution_count": 280,
   "id": "966a677b-94f6-4504-9330-7c7000110948",
   "metadata": {},
   "outputs": [
    {
     "name": "stdout",
     "output_type": "stream",
     "text": [
      "\n",
      "d=9: 1160287 supports to check\n",
      "Processed 100 items. Elapsed time: 0.28s. Estimate: 53.59min\n",
      "Processed all items. Elapsed time: 2633.9s\n",
      "Found 1159993 potential fundamental models\n"
     ]
    }
   ],
   "source": [
    "n = 6\n",
    "d = 9\n",
    "fundamental_models = find_fundamental_models(n, d)\n",
    "print(f\"Found {len(fundamental_models)} potential fundamental models\")"
   ]
  },
  {
   "cell_type": "code",
   "execution_count": 281,
   "id": "72082ab9-2214-481b-b52e-28dc3b12d1bd",
   "metadata": {},
   "outputs": [
    {
     "name": "stdout",
     "output_type": "stream",
     "text": [
      "After filtering non-positive solutions, 106 fundamental models were found.\n",
      "After considering symmetric solutions, additional 92 fundamental models were found.\n",
      "We found 198 fundamental models.\n"
     ]
    }
   ],
   "source": [
    "filtered = filter_fundamental_models(fundamental_models)\n",
    "print(f\"After filtering non-positive solutions, {len(filtered)} fundamental models were found.\")\n",
    "symmetric = [support for support, w in filtered if support != apply_symmetry(support)]\n",
    "print(f\"After considering symmetric solutions, additional {len(symmetric)} fundamental models were found.\")\n",
    "print(f\"We found {len(filtered) + len(symmetric)} fundamental models.\")"
   ]
  },
  {
   "cell_type": "code",
   "execution_count": 282,
   "id": "83bf88dc-5d85-418f-a63c-adc84b467756",
   "metadata": {},
   "outputs": [
    {
     "name": "stdout",
     "output_type": "stream",
     "text": [
      "JSON dump has been written to section8_n6_d9.json\n"
     ]
    }
   ],
   "source": [
    "save_fundamental_models(fundamental_models, f\"section8_n{n}_d{d}.json\")"
   ]
  },
  {
   "cell_type": "markdown",
   "id": "99abcbb3-2880-4e59-b320-76bc77f0ee9f",
   "metadata": {},
   "source": [
    "### $d = 10$"
   ]
  },
  {
   "cell_type": "code",
   "execution_count": 283,
   "id": "31dfae50-5c8a-48a1-ae87-daedfb5ddd59",
   "metadata": {},
   "outputs": [
    {
     "name": "stdout",
     "output_type": "stream",
     "text": [
      "\n",
      "d=10: 2427353 supports to check\n",
      "Processed 100 items. Elapsed time: 0.35s. Estimate: 140.11min\n",
      "Processed all items. Elapsed time: 6058.31s\n",
      "Found 2427088 potential fundamental models\n"
     ]
    }
   ],
   "source": [
    "n = 6\n",
    "d = 10\n",
    "fundamental_models = find_fundamental_models(n, d)\n",
    "print(f\"Found {len(fundamental_models)} potential fundamental models\")"
   ]
  },
  {
   "cell_type": "code",
   "execution_count": 284,
   "id": "4dda5315-e08f-43f1-b0e2-eba3461665cc",
   "metadata": {},
   "outputs": [
    {
     "name": "stdout",
     "output_type": "stream",
     "text": [
      "After filtering non-positive solutions, 16 fundamental models were found.\n",
      "After considering symmetric solutions, additional 16 fundamental models were found.\n",
      "We found 32 fundamental models.\n"
     ]
    }
   ],
   "source": [
    "filtered = filter_fundamental_models(fundamental_models)\n",
    "print(f\"After filtering non-positive solutions, {len(filtered)} fundamental models were found.\")\n",
    "symmetric = [support for support, w in filtered if support != apply_symmetry(support)]\n",
    "print(f\"After considering symmetric solutions, additional {len(symmetric)} fundamental models were found.\")\n",
    "print(f\"We found {len(filtered) + len(symmetric)} fundamental models.\")"
   ]
  },
  {
   "cell_type": "code",
   "execution_count": 285,
   "id": "e642393b-3679-4367-b293-3c6738edb2ef",
   "metadata": {},
   "outputs": [
    {
     "name": "stdout",
     "output_type": "stream",
     "text": [
      "JSON dump has been written to section8_n6_d10.json\n"
     ]
    }
   ],
   "source": [
    "save_fundamental_models(fundamental_models, f\"section8_n{n}_d{d}.json\")"
   ]
  },
  {
   "cell_type": "markdown",
   "id": "f0f7a63a-94ea-4081-92aa-e57e73289891",
   "metadata": {},
   "source": [
    "### $d = 11$"
   ]
  },
  {
   "cell_type": "code",
   "execution_count": 287,
   "id": "e68943fc-ec9c-4c28-b83d-c2eaa84688ac",
   "metadata": {},
   "outputs": [
    {
     "name": "stdout",
     "output_type": "stream",
     "text": [
      "\n",
      "d=11: 4710754 supports to check\n",
      "Processed 100 items. Elapsed time: 0.39s. Estimate: 304.16min\n",
      "Processed all items. Elapsed time: 13341.55s\n",
      "Found 4710489 potential fundamental models\n"
     ]
    }
   ],
   "source": [
    "n = 6\n",
    "d = 11\n",
    "fundamental_models = find_fundamental_models(n, d)\n",
    "print(f\"Found {len(fundamental_models)} potential fundamental models\")"
   ]
  },
  {
   "cell_type": "code",
   "execution_count": 288,
   "id": "b0f37694-2d0b-4b2d-88be-4d22a10e6b64",
   "metadata": {},
   "outputs": [
    {
     "name": "stdout",
     "output_type": "stream",
     "text": [
      "After filtering non-positive solutions, 2 fundamental models were found.\n",
      "After considering symmetric solutions, additional 2 fundamental models were found.\n",
      "We found 4 fundamental models.\n"
     ]
    }
   ],
   "source": [
    "filtered = filter_fundamental_models(fundamental_models)\n",
    "print(f\"After filtering non-positive solutions, {len(filtered)} fundamental models were found.\")\n",
    "symmetric = [support for support, w in filtered if support != apply_symmetry(support)]\n",
    "print(f\"After considering symmetric solutions, additional {len(symmetric)} fundamental models were found.\")\n",
    "print(f\"We found {len(filtered) + len(symmetric)} fundamental models.\")"
   ]
  },
  {
   "cell_type": "code",
   "execution_count": 289,
   "id": "c0eacd1b-ddb5-46a0-a2ec-150d00103b41",
   "metadata": {},
   "outputs": [
    {
     "name": "stdout",
     "output_type": "stream",
     "text": [
      "JSON dump has been written to section8_n6_d11.json\n"
     ]
    }
   ],
   "source": [
    "save_fundamental_models(fundamental_models, f\"section8_n{n}_d{d}.json\")"
   ]
  },
  {
   "cell_type": "code",
   "execution_count": null,
   "id": "2b7c4c30-ad18-4ab0-8fb3-20aeff984ad0",
   "metadata": {},
   "outputs": [],
   "source": []
  }
 ],
 "metadata": {
  "kernelspec": {
   "display_name": "Python 3 (ipykernel)",
   "language": "python",
   "name": "python3"
  },
  "language_info": {
   "codemirror_mode": {
    "name": "ipython",
    "version": 3
   },
   "file_extension": ".py",
   "mimetype": "text/x-python",
   "name": "python",
   "nbconvert_exporter": "python",
   "pygments_lexer": "ipython3",
   "version": "3.9.18"
  }
 },
 "nbformat": 4,
 "nbformat_minor": 5
}
