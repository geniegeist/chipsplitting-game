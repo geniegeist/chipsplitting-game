{
 "cells": [
  {
   "cell_type": "code",
   "execution_count": 1,
   "id": "668780cd-2fb2-4043-8418-48b46a4f22fc",
   "metadata": {},
   "outputs": [],
   "source": [
    "import time\n",
    "import numpy as np"
   ]
  },
  {
   "cell_type": "code",
   "execution_count": 61,
   "id": "50eba149-f5d3-41ad-8807-109b41a4c0a6",
   "metadata": {},
   "outputs": [
    {
     "name": "stdout",
     "output_type": "stream",
     "text": [
      "Loaded JSON Lambda. It contains 2289 items.\n"
     ]
    }
   ],
   "source": [
    "# Load Lambda dataset\n",
    "import json\n",
    "\n",
    "json_file_name = 'section7_Lambda.json'\n",
    "with open(json_file_name, 'r') as json_file:\n",
    "    Lambda = [tuple(sorted(x)) for x in json.load(json_file)]\n",
    "print(f\"Loaded JSON Lambda. It contains {len(Lambda)} items.\")"
   ]
  },
  {
   "cell_type": "markdown",
   "id": "4dfc4f12-fef4-4190-bd8b-f285699c67b1",
   "metadata": {},
   "source": [
    "### relcoord\n",
    "\n",
    "$\\mathrm{relcoord}: \\{0, ..., 59 \\} \\to \\{0,1,2,3,M,d-6,...,d \\}^2$"
   ]
  },
  {
   "cell_type": "code",
   "execution_count": 3,
   "id": "d61ccba4-f7ad-4ece-a2d2-c05faf14cb92",
   "metadata": {},
   "outputs": [],
   "source": [
    "def relcoord(index):\n",
    "    \"\"\"\n",
    "    index: index in super contracted coordinate system\n",
    "    \"\"\"\n",
    "    M = 500\n",
    "    d = 1000\n",
    "    indexes = { \n",
    "        'x': set(range(16)),\n",
    "        'y': set(range(16, 32)),\n",
    "        'z': set(range(32, 48)),\n",
    "        'b': set(range(48, 52)),\n",
    "        'c': set(range(52, 56)),\n",
    "        'd': set(range(56, 60)),\n",
    "    }\n",
    "    if index in indexes['x']:\n",
    "        col = index // 4\n",
    "        row = index % 4\n",
    "        return [(col, row)]\n",
    "    elif index in indexes['y']:\n",
    "        col = (index - 16) // 4\n",
    "        row = (-3 + index % 4) - col + d\n",
    "        return [(col, row)]\n",
    "    elif index in indexes['z']:\n",
    "        row = index % 4\n",
    "        col = d + (-3 + (index - 32) // 4) - row\n",
    "        return [(col, row)]\n",
    "    elif index in indexes['b']:\n",
    "        b_index = index - 48\n",
    "        return [(M, b_index)] + [(d-6 + i , b_index) for i in range(3 - b_index)]\n",
    "    elif index in indexes['c']:\n",
    "        c_index = index - 52\n",
    "        return [(c_index, M)] + [(c_index, d-6 + i) for i in range(3 - c_index)]\n",
    "    elif index in indexes['d']:\n",
    "        d_index = index - 56\n",
    "        return [(M, M)] + [(M, d-6 + i) for i in range(3 - d_index)] + [(d-6 + i, M) for i in range(3 - d_index)]\n",
    "    else:\n",
    "        raise Value\n",
    "\n",
    "def stringify_relcoord(x):\n",
    "    if x == 500:\n",
    "        return 'M'\n",
    "    elif x == 1000:\n",
    "        return 'd'\n",
    "    elif x > 500:\n",
    "        return f\"d{x - 1000}\"\n",
    "    else:\n",
    "        return x\n",
    "\n",
    "def print_relcoord(coord):\n",
    "    print([(stringify_relcoord(x), stringify_relcoord(y)) for (x,y) in coord])"
   ]
  },
  {
   "cell_type": "code",
   "execution_count": 60,
   "id": "8d971860-f255-4235-807d-3283901c54ec",
   "metadata": {},
   "outputs": [
    {
     "name": "stdout",
     "output_type": "stream",
     "text": [
      "[('M', 'M'), ('M', 'd-6'), ('M', 'd-5'), ('M', 'd-4'), ('d-6', 'M'), ('d-5', 'M'), ('d-4', 'M')]\n"
     ]
    }
   ],
   "source": [
    "# Test relcoord\n",
    "print_relcoord(relcoord(56))"
   ]
  },
  {
   "cell_type": "markdown",
   "id": "0b1e6ba9-2e41-40ee-9402-e5b9fbc7338f",
   "metadata": {},
   "source": [
    "### relsets\n",
    "The following function `relsets` computes for a super contracted configuration $v$ the set $\\{ \\mathrm{relcoord}(w) : \\exists w \\ \\in \\mathbb Z^{V_d} \\text{ such that } \\mathrm{contr}'(sign(w)) = v \\}$"
   ]
  },
  {
   "cell_type": "code",
   "execution_count": 5,
   "id": "2657d684-fcb3-431a-8b2d-77f006d2f046",
   "metadata": {},
   "outputs": [],
   "source": [
    "def relsets(config):\n",
    "    \"\"\"\n",
    "    Find all configurations in Z^Vd in relative coordinate system \n",
    "    that map to super_contracted_config under (contract'◦sign)\n",
    "    \"\"\"\n",
    "    assert all([True if 0 <= x and x < 60 else False for x in config]), \"Passed argument is not in valid super contracted form\"\n",
    "\n",
    "    rel_config = [relcoord(x) for x in config]\n",
    "    accu = []\n",
    "    res = []\n",
    "    def dfs(index):\n",
    "        if index >= len(rel_config):\n",
    "            res.append(accu.copy())\n",
    "            return\n",
    "        for x in rel_config[index]:\n",
    "            accu.append(x)\n",
    "            dfs(index + 1)\n",
    "            accu.pop()\n",
    "    \n",
    "    dfs(0)\n",
    "    return res"
   ]
  },
  {
   "cell_type": "code",
   "execution_count": 58,
   "id": "c573bc22-e930-4949-891f-8acccd6cd0e9",
   "metadata": {},
   "outputs": [
    {
     "name": "stdout",
     "output_type": "stream",
     "text": [
      "Super contracted configuration (12, 19, 20, 45, 56)\n",
      "Here is a list of configurations in Z^Vd that map to this super contracted configuration:\n",
      "\n",
      "[(3, 0), (0, 'd'), (1, 'd-4'), ('d-1', 1), ('M', 'M')]\n",
      "[(3, 0), (0, 'd'), (1, 'd-4'), ('d-1', 1), ('M', 'd-6')]\n",
      "[(3, 0), (0, 'd'), (1, 'd-4'), ('d-1', 1), ('M', 'd-5')]\n",
      "[(3, 0), (0, 'd'), (1, 'd-4'), ('d-1', 1), ('M', 'd-4')]\n",
      "[(3, 0), (0, 'd'), (1, 'd-4'), ('d-1', 1), ('d-6', 'M')]\n",
      "[(3, 0), (0, 'd'), (1, 'd-4'), ('d-1', 1), ('d-5', 'M')]\n",
      "[(3, 0), (0, 'd'), (1, 'd-4'), ('d-1', 1), ('d-4', 'M')]\n",
      "\n",
      "Configurations are given in relative coordinates.\n"
     ]
    }
   ],
   "source": [
    "# Test relsets\n",
    "lambd = Lambda[100]\n",
    "\n",
    "print(f\"Super contracted configuration {Lambda[100]}\")\n",
    "print(\"Here is a list of configurations in Z^Vd that map to this super contracted configuration:\")\n",
    "print()\n",
    "for r in relsets(lambd):\n",
    "    print([(stringify_relcoord(x), stringify_relcoord(y)) for x,y in r])\n",
    "\n",
    "print()\n",
    "print(\"Configurations are given in relative coordinates.\")"
   ]
  },
  {
   "cell_type": "markdown",
   "id": "fb9c70d3-33d9-48cb-ba34-12923123539e",
   "metadata": {},
   "source": [
    "## Apply Invertibility Criterion using relative coordinates\n",
    "\n",
    "We use the divide and conquer approach.\n",
    "\n",
    "### Divide"
   ]
  },
  {
   "cell_type": "code",
   "execution_count": 145,
   "id": "e40f651a-cb6d-4bb3-bd11-528883999bfb",
   "metadata": {},
   "outputs": [],
   "source": [
    "SENTINEL_M = 500\n",
    "SENTINEL_D = 1000\n",
    "REL = [0,1,2,3,SENTINEL_M,SENTINEL_D-6,SENTINEL_D-5,SENTINEL_D-4,SENTINEL_D-3,SENTINEL_D-2,SENTINEL_D-1,SENTINEL_D]\n",
    "\n",
    "def col(p):\n",
    "    return p[0]\n",
    "\n",
    "def row(p):\n",
    "    return p[1]\n",
    "\n",
    "def divide(relset):\n",
    "    \"\"\"\n",
    "    Computes the lambda for the division step. \n",
    "    Returns lambda if a division was found, otherwise None is returned.\n",
    "\n",
    "    Note that if None is returned, it does not necessarily mean that there is no division. \n",
    "    It just means that this (simple) algorithm could not find a division,\n",
    "    but there may exist one, and we haven't found it.\n",
    "\n",
    "    relset: support of a configuration in relative coordinates\n",
    "    \"\"\"\n",
    "    M = 500\n",
    "    d = 1000\n",
    "    R = [0, 1, 2, 3, M, d-6, d-5, d-4, d-3, d-2, d-1, d] # relative coordinate system\n",
    "\n",
    "    assert len(relset) == 6 #size of negative support + size of negative support = 6\n",
    "    assert (0,0) in relset\n",
    "\n",
    "    lambd = []\n",
    "    col_start = 0\n",
    "    for col_end in range(len(R)):\n",
    "        num_cols = col_end - col_start + 1\n",
    "        points_in_col = [p for p in relset if col(p) in range(R[col_start], R[col_end]+1)]\n",
    "        num_points = len(points_in_col)\n",
    "\n",
    "        assert not num_points or num_cols <= num_points\n",
    "\n",
    "        if not num_points or num_cols == num_points or R[col_end] == M:\n",
    "            lambd.append(num_points)\n",
    "            col_start = col_end + 1\n",
    "            \n",
    "    if sum(lambd) != 6:\n",
    "        return None\n",
    "        \n",
    "    return lambd"
   ]
  },
  {
   "cell_type": "code",
   "execution_count": 146,
   "id": "d5b9c2bb-9f82-4703-a507-11cd45187dcd",
   "metadata": {},
   "outputs": [
    {
     "name": "stdout",
     "output_type": "stream",
     "text": [
      "Computed lambda=[3, 0, 2, 0, 0, 0, 0, 0, 0, 1] for config [(0, 0), (0, 3), (1, 'd-1'), ('M', 1), ('M', 'M'), ('d', 0)].\n",
      "Computed lambda=[3, 0, 2, 0, 0, 0, 0, 0, 0, 1] for config [(0, 0), (0, 3), (1, 'd-1'), ('M', 1), ('M', 'd-6'), ('d', 0)].\n",
      "Computed lambda=[3, 0, 2, 0, 0, 0, 0, 0, 0, 1] for config [(0, 0), (0, 3), (1, 'd-1'), ('M', 1), ('M', 'd-5'), ('d', 0)].\n",
      "Computed lambda=[3, 0, 1, 1, 0, 0, 0, 0, 0, 1] for config [(0, 0), (0, 3), (1, 'd-1'), ('M', 1), ('d', 0), ('d-6', 'M')].\n",
      "Computed lambda=[3, 0, 1, 0, 1, 0, 0, 0, 0, 1] for config [(0, 0), (0, 3), (1, 'd-1'), ('M', 1), ('d', 0), ('d-5', 'M')].\n",
      "Computed lambda=[3, 0, 1, 1, 0, 0, 0, 0, 0, 1] for config [(0, 0), (0, 3), (1, 'd-1'), ('M', 'M'), ('d', 0), ('d-6', 1)].\n",
      "Computed lambda=[3, 0, 1, 1, 0, 0, 0, 0, 0, 1] for config [(0, 0), (0, 3), (1, 'd-1'), ('M', 'd-6'), ('d', 0), ('d-6', 1)].\n",
      "Computed lambda=[3, 0, 1, 1, 0, 0, 0, 0, 0, 1] for config [(0, 0), (0, 3), (1, 'd-1'), ('M', 'd-5'), ('d', 0), ('d-6', 1)].\n",
      "Computed lambda=[3, 0, 0, 2, 0, 0, 0, 0, 1] for config [(0, 0), (0, 3), (1, 'd-1'), ('d', 0), ('d-6', 1), ('d-6', 'M')].\n",
      "Computed lambda=[3, 0, 0, 1, 1, 0, 0, 0, 0, 1] for config [(0, 0), (0, 3), (1, 'd-1'), ('d', 0), ('d-5', 'M'), ('d-6', 1)].\n",
      "Computed lambda=[3, 0, 1, 0, 1, 0, 0, 0, 0, 1] for config [(0, 0), (0, 3), (1, 'd-1'), ('M', 'M'), ('d', 0), ('d-5', 1)].\n",
      "Computed lambda=[3, 0, 1, 0, 1, 0, 0, 0, 0, 1] for config [(0, 0), (0, 3), (1, 'd-1'), ('M', 'd-6'), ('d', 0), ('d-5', 1)].\n",
      "Computed lambda=[3, 0, 1, 0, 1, 0, 0, 0, 0, 1] for config [(0, 0), (0, 3), (1, 'd-1'), ('M', 'd-5'), ('d', 0), ('d-5', 1)].\n",
      "Computed lambda=[3, 0, 0, 1, 1, 0, 0, 0, 0, 1] for config [(0, 0), (0, 3), (1, 'd-1'), ('d', 0), ('d-5', 1), ('d-6', 'M')].\n",
      "Computed lambda=[3, 0, 0, 0, 2, 0, 0, 0, 1] for config [(0, 0), (0, 3), (1, 'd-1'), ('d', 0), ('d-5', 1), ('d-5', 'M')].\n"
     ]
    }
   ],
   "source": [
    "# Test divide\n",
    "l = Lambda[400]\n",
    "for relset in relsets(l):\n",
    "    config = [(0,0)] + relset\n",
    "    config_str = str(sorted([(stringify_relcoord(x), stringify_relcoord(y)) for x,y in config], key=lambda x: str(x[0])))\n",
    "    lambd = divide(config)\n",
    "    print(f\"Computed lambda={lambd} for config {config_str}.\")"
   ]
  },
  {
   "cell_type": "code",
   "execution_count": 147,
   "id": "36546cfb-ee27-49b6-b2d8-6f6ffab9d2b8",
   "metadata": {},
   "outputs": [
    {
     "name": "stdout",
     "output_type": "stream",
     "text": [
      "Divide step finished\n"
     ]
    }
   ],
   "source": [
    "for l in Lambda:\n",
    "    for relset in relsets(l):\n",
    "        config = [(0,0)] + relset\n",
    "        config_str = str(sorted([(stringify_relcoord(x), stringify_relcoord(y)) for x,y in config], key=lambda x: str(x[0])))\n",
    "        lambd = divide(config)\n",
    "        if not lambd:\n",
    "            print(f\"Divide step failed for config={config_str}\")\n",
    "print(\"Divide step finished\")"
   ]
  },
  {
   "cell_type": "markdown",
   "id": "4e9f4400-7b2a-4edb-9c0a-323ebc93bfe2",
   "metadata": {},
   "source": [
    "### Conquer"
   ]
  },
  {
   "cell_type": "code",
   "execution_count": 233,
   "id": "2f34aa85-d333-4538-ae6b-ccf1b58553a7",
   "metadata": {},
   "outputs": [],
   "source": [
    "SENTINEL_M = 500\n",
    "SENTINEL_D = 1000\n",
    "\n",
    "def col(p):\n",
    "    return p[0]\n",
    "\n",
    "def row(p):\n",
    "    return p[1]\n",
    "\n",
    "def succ(x):\n",
    "    if x == 3:\n",
    "        return SENTINEL_M\n",
    "    if x == SENTINEL_M:\n",
    "        return SENTINEL_D-6\n",
    "    return x+1\n",
    "\n",
    "def midpoint(a,b) -> list[int]:\n",
    "    low, high = min(a,b), max(a,b)\n",
    "\n",
    "    # low and high take concrete values\n",
    "    # hence we can compute the midpoint exactly\n",
    "    if low > SENTINEL_M or high < SENTINEL_M: \n",
    "        return [(low + high - 1) / 2]\n",
    "        \n",
    "    if high == SENTINEL_M:\n",
    "        if low in [0,1]:\n",
    "            return [2,3,SENTINEL_M]\n",
    "        if low in [2,3]:\n",
    "            return [3,SENTINEL_M]\n",
    "    if low == SENTINEL_M:\n",
    "        if high in [SENTINEL_D-6, SENTINEL_D-5]:\n",
    "            return [SENTINEL_M]\n",
    "        if high in [SENTINEL_D-4, SENTINEL_D-3]:\n",
    "            return [SENTINEL_M,SENTINEL_D-6]\n",
    "        if high in [SENTINEL_D-2, SENTINEL_D-1]:\n",
    "            return [SENTINEL_M,SENTINEL_D-6,SENTINEL_D-5]       \n",
    "        if high == SENTINEL_D:\n",
    "            return [SENTINEL_M,SENTINEL_D-6,SENTINEL_D-5,SENTINEL_D-4]\n",
    "    \n",
    "    return [SENTINEL_M]\n",
    "        \n",
    "def conquer(relset):\n",
    "    \"\"\"\n",
    "    Returns True if invertibility criterion can be applied, otherwise False\n",
    "    \"\"\"\n",
    "    relset = sorted(relset, key=lambda x: col(x))\n",
    "    length = len(relset)\n",
    "    if length <= 2:\n",
    "        return True\n",
    "    elif length == 3:\n",
    "        x, y, z = relset\n",
    "        same_column = col(x) == col(y) and col(y) == col(z)\n",
    "        \n",
    "        if same_column: # Proposition 5.7c\n",
    "            return True\n",
    "\n",
    "        if col(x) == col(y) and succ(col(x)) == col(z): # Proposition 5.7d\n",
    "            if row(z) not in midpoint(row(x),row(y)): # see Proposition 5.7d\n",
    "                return True\n",
    "            \n",
    "        return False\n",
    "    else:\n",
    "        return False"
   ]
  },
  {
   "cell_type": "markdown",
   "id": "24ad0842-886a-4f8a-bae0-09664f9d7605",
   "metadata": {},
   "source": [
    "### Apply"
   ]
  },
  {
   "cell_type": "code",
   "execution_count": 237,
   "id": "a2d82f27-6851-48cb-b7fd-51679556271b",
   "metadata": {},
   "outputs": [],
   "source": [
    "# helper function\n",
    "def make_subrelset(relset, lambd):\n",
    "    nonzero = [l for l in lambd if l > 0]\n",
    "    begin = 0\n",
    "    for n in nonzero:\n",
    "        yield relset[begin:begin+n]\n",
    "        begin += n\n",
    "\n",
    "def apply_invertibility_criterion(relset):\n",
    "    assert len(relset) == 6 #size of negative support + size of negative support = 6\n",
    "    assert (0,0) in relset\n",
    "    \n",
    "    relset = sorted(relset, key=lambda x: col(x))\n",
    "    lambd = divide(relset)\n",
    "    conquer_success = all([conquer(subrelset) for subrelset in make_subrelset(relset, lambd)])\n",
    "\n",
    "    return conquer_success"
   ]
  },
  {
   "cell_type": "code",
   "execution_count": 236,
   "id": "95df1ef9-0442-499f-8abc-d366b9dda1e0",
   "metadata": {},
   "outputs": [
    {
     "data": {
      "text/plain": [
       "1107"
      ]
     },
     "execution_count": 236,
     "metadata": {},
     "output_type": "execute_result"
    }
   ],
   "source": [
    "left_to_check = []\n",
    "for l in Lambda:\n",
    "    res_inv_crit = [apply_invertibility_criterion([(0,0)] + r) for r in relsets(l)]\n",
    "    if not all(res_inv_crit):\n",
    "        left_to_check.append(l)\n",
    "len(left_to_check)"
   ]
  },
  {
   "cell_type": "code",
   "execution_count": null,
   "id": "ef548bdf-f75a-4aeb-beca-111f3a319eb2",
   "metadata": {},
   "outputs": [],
   "source": []
  }
 ],
 "metadata": {
  "kernelspec": {
   "display_name": "Python 3 (ipykernel)",
   "language": "python",
   "name": "python3"
  },
  "language_info": {
   "codemirror_mode": {
    "name": "ipython",
    "version": 3
   },
   "file_extension": ".py",
   "mimetype": "text/x-python",
   "name": "python",
   "nbconvert_exporter": "python",
   "pygments_lexer": "ipython3",
   "version": "3.9.18"
  }
 },
 "nbformat": 4,
 "nbformat_minor": 5
}
