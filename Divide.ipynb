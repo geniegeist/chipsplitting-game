{
 "cells": [
  {
   "cell_type": "code",
   "execution_count": 1,
   "id": "08c7abaf-ebff-4057-babb-9dda2bfae010",
   "metadata": {},
   "outputs": [],
   "source": [
    "from chipsplitting import Node, CoordinateSystem as CS"
   ]
  },
  {
   "cell_type": "code",
   "execution_count": 16,
   "id": "5b820071-f962-4303-aad1-5b858b8b1a55",
   "metadata": {},
   "outputs": [],
   "source": [
    "def generatePascal(diag: list[Node]) -> Node:\n",
    "    diag = [Node(v) if type(v) is int else v for v in diag]\n",
    "    if not diag:\n",
    "        return None\n",
    "    if len(diag) == 1:\n",
    "        return diag[0]\n",
    "    lower_diag = []\n",
    "    for i in range(len(diag) - 1):\n",
    "        top = diag[i]\n",
    "        right = diag[i+1]\n",
    "        node = Node(top.value + right.value)\n",
    "        node.top = top\n",
    "        node.right = right\n",
    "        lower_diag.append(node)\n",
    "    return generatePascal(lower_diag)\n",
    "\n",
    "def e_unit(dim, e):\n",
    "    return [0 if i != e else 1 for i in range(dim)]\n",
    "\n",
    "def computePairingMatrix(d, E, S):\n",
    "    matrix = []\n",
    "    for e in E:\n",
    "        row = []\n",
    "        pascal = CS(generatePascal(e_unit(d+1, e)))\n",
    "        for (c, r) in S:\n",
    "            row.append(pascal[c, r])\n",
    "        matrix.append(row)\n",
    "    return matrix"
   ]
  },
  {
   "cell_type": "code",
   "execution_count": 3,
   "id": "8e44ca3d-d439-4fff-b013-9bc645c83fc1",
   "metadata": {},
   "outputs": [
    {
     "name": "stdout",
     "output_type": "stream",
     "text": [
      "   0\n",
      "   1    1\n",
      "   2    1    0\n",
      "   3    1    0    0\n",
      "   4    1    0    0    0\n",
      "   5    1    0    0    0    0\n",
      "   6    1    0    0    0    0    0\n"
     ]
    }
   ],
   "source": [
    "base1 = CS(generatePascal([1,0,0,0,0,0,0]))\n",
    "base2 = CS(generatePascal([0,1,0,0,0,0,0]))\n",
    "\n",
    "print(base2)"
   ]
  },
  {
   "cell_type": "code",
   "execution_count": 7,
   "id": "be35bac2-eb02-438b-9334-63a979dd48c7",
   "metadata": {},
   "outputs": [
    {
     "name": "stdout",
     "output_type": "stream",
     "text": [
      "   1\n",
      "   1\n",
      "   6\n",
      "   2\n"
     ]
    }
   ],
   "source": [
    "print(base1[0,0])\n",
    "print(base1[0,4])\n",
    "print(base2[0,0])\n",
    "print(base2[0,4])"
   ]
  },
  {
   "cell_type": "code",
   "execution_count": 8,
   "id": "915f7f6a-ee49-4c78-a0e5-5772c5336039",
   "metadata": {},
   "outputs": [],
   "source": [
    "S_list = [[(0,0), (0,4)], [(2,0)], [], [(4,1)], [(5,0)], [(6,0)]]\n",
    "E_list = [[0,1], [2], [], [4], [5], [6]]"
   ]
  },
  {
   "cell_type": "code",
   "execution_count": 14,
   "id": "f34f73d4-7c7d-4e69-898f-0d7f09e72cc0",
   "metadata": {},
   "outputs": [
    {
     "name": "stdout",
     "output_type": "stream",
     "text": [
      "[(0, 0), (0, 4), (2, 0), (4, 1), (5, 0), (6, 0)]\n"
     ]
    }
   ],
   "source": [
    "E = [\n",
    "    x \n",
    "    for xs in E_list\n",
    "    for x in xs \n",
    "]\n",
    "S = [\n",
    "    x \n",
    "    for xs in S_list\n",
    "    for x in xs \n",
    "]\n",
    "print(S)"
   ]
  },
  {
   "cell_type": "code",
   "execution_count": 17,
   "id": "5d3477b8-77bb-49d2-88f8-33a572f833b7",
   "metadata": {},
   "outputs": [
    {
     "data": {
      "text/plain": [
       "[[   1,    1,    0,    0,    0,    0],\n",
       " [   6,    2,    0,    0,    0,    0],\n",
       " [  15,    1,    1,    0,    0,    0],\n",
       " [  15,    0,    6,    1,    0,    0],\n",
       " [   6,    0,    4,    1,    1,    0],\n",
       " [   1,    0,    1,    0,    1,    1]]"
      ]
     },
     "execution_count": 17,
     "metadata": {},
     "output_type": "execute_result"
    }
   ],
   "source": [
    "computePairingMatrix(6,E,S)"
   ]
  },
  {
   "cell_type": "code",
   "execution_count": null,
   "id": "cff5feda-4299-478f-9ea4-bb1cef3e0d20",
   "metadata": {},
   "outputs": [],
   "source": []
  }
 ],
 "metadata": {
  "kernelspec": {
   "display_name": "Python 3 (ipykernel)",
   "language": "python",
   "name": "python3"
  },
  "language_info": {
   "codemirror_mode": {
    "name": "ipython",
    "version": 3
   },
   "file_extension": ".py",
   "mimetype": "text/x-python",
   "name": "python",
   "nbconvert_exporter": "python",
   "pygments_lexer": "ipython3",
   "version": "3.9.18"
  }
 },
 "nbformat": 4,
 "nbformat_minor": 5
}
