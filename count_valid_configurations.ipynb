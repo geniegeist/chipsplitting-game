{
 "cells": [
  {
   "cell_type": "code",
   "execution_count": 16,
   "id": "9e771f95-3b66-4039-a510-25fa7a445379",
   "metadata": {},
   "outputs": [],
   "source": [
    "import numpy as np\n",
    "from tabulate import tabulate\n",
    "from chipsplitting import HyperfieldVector as HV, HyperfieldPascalForm as HVPascal, grid_iter\n",
    "from chipsplitting.utils import gauss, ncr"
   ]
  },
  {
   "cell_type": "code",
   "execution_count": 24,
   "id": "ce5757f1-eef5-4d3b-a7e7-8a3ae2efc77d",
   "metadata": {},
   "outputs": [
    {
     "name": "stdout",
     "output_type": "stream",
     "text": [
      "   . \n",
      "   .    . \n",
      "   .    .    . \n",
      "   .    .    .    . \n",
      "   .    .    .    .    . \n",
      "   .    .    .    .    .    . \n",
      "   .    .    .    .    .    .    . \n",
      "   .    .    .    .    .    .    .    . \n",
      "   .    .    .    .    .    .    .    .    . \n",
      "   .    .    .    .    .    .    .    .    .    . \n",
      "   .    .    .    .    .    .    .    .    .    .    . \n",
      "   .    .    .    .    .    .    .    .    .    .    .    . \n",
      "   .    .    .    .    .    .    .    .    .    .    .    .    . \n",
      "   +    +    +    +    +    +    +    +    +    +    +    +    +    + \n",
      "\n"
     ]
    }
   ],
   "source": [
    "degree = 13\n",
    "unit = 4\n",
    "phi= HVPascal(degree, \"col\", unit)\n",
    "print(phi)"
   ]
  },
  {
   "cell_type": "code",
   "execution_count": 27,
   "id": "b307f2fd-d678-4dd9-8714-ef0d8c4594f3",
   "metadata": {},
   "outputs": [
    {
     "name": "stdout",
     "output_type": "stream",
     "text": [
      "   + \n",
      "   +    . \n",
      "   +    .    . \n",
      "   +    .    .    . \n",
      "   +    .    .    .    . \n",
      "   +    .    .    .    .    . \n",
      "   +    .    .    .    .    .    . \n",
      "   +    .    .    .    .    .    .    . \n",
      "   +    .    .    .    .    .    .    .    . \n",
      "   +    .    .    .    .    .    .    .    .    . \n",
      "   +    .    .    .    .    .    .    .    .    .    . \n",
      "   +    .    .    .    .    .    .    .    .    .    .    . \n",
      "   +    .    .    .    .    .    .    .    .    .    .    .    . \n",
      "   +    .    .    .    .    .    .    .    .    .    .    .    .    . \n",
      "\n"
     ]
    }
   ],
   "source": [
    "degree = 13\n",
    "unit = 0\n",
    "phi= HVPascal(degree, \"row\", unit)\n",
    "print(phi)"
   ]
  },
  {
   "cell_type": "markdown",
   "id": "707b2e73-d8dd-4fa7-964b-e03b32318a1a",
   "metadata": {},
   "source": [
    "## Count valid configurations\n",
    "\n",
    "**Goal:** count the number of configurations $s \\in H^{V_d}$ that are valid and have degree $deg \\in \\{2,3,..., 7 \\}$.\n",
    "A configuration is called valid if $\\mathrm{supp}_{-} = \\{ (0,0) \\}$ or $\\mathrm{supp}_{-} = \\emptyset \\}$.\n",
    "\n",
    "Note that a valid configuration is not a valid outcome; it is only a valid outcomes if it is a valid configuration and satisfies all Pascal equations."
   ]
  },
  {
   "cell_type": "code",
   "execution_count": 18,
   "id": "2c82d9a5-f09a-47eb-8387-f0d3910968bb",
   "metadata": {},
   "outputs": [
    {
     "name": "stdout",
     "output_type": "stream",
     "text": [
      "╒════════════════╤══════════╤═════════╕\n",
      "│   support size │   degree │   total │\n",
      "╞════════════════╪══════════╪═════════╡\n",
      "│              4 │        2 │       5 │\n",
      "├────────────────┼──────────┼─────────┤\n",
      "│              4 │        3 │     121 │\n",
      "├────────────────┼──────────┼─────────┤\n",
      "│              4 │        4 │     875 │\n",
      "├────────────────┼──────────┼─────────┤\n",
      "│              4 │        5 │    3844 │\n",
      "├────────────────┼──────────┼─────────┤\n",
      "│              4 │        6 │   12705 │\n",
      "├────────────────┼──────────┼─────────┤\n",
      "│              4 │        7 │   34810 │\n",
      "├────────────────┼──────────┼─────────┤\n",
      "│              4 │        8 │   83391 │\n",
      "├────────────────┼──────────┼─────────┤\n",
      "│              4 │        9 │  180500 │\n",
      "├────────────────┼──────────┼─────────┤\n",
      "│              4 │       10 │  360789 │\n",
      "├────────────────┼──────────┼─────────┤\n",
      "│              4 │       11 │  676235 │\n",
      "├────────────────┼──────────┼─────────┤\n",
      "│              4 │       12 │ 1201915 │\n",
      "├────────────────┼──────────┼─────────┤\n",
      "│              4 │       13 │ 2042936 │\n",
      "╘════════════════╧══════════╧═════════╛\n"
     ]
    }
   ],
   "source": [
    "table = [['support size', 'degree', 'total']]\n",
    "\n",
    "support_size = 4\n",
    "for deg in range(2, 14):\n",
    "    count_diag = deg + 1\n",
    "    count_lower_triangle = gauss(deg) - 1\n",
    "\n",
    "    sum = 0\n",
    "    # we start with 1 since every configuration should have degree deg\n",
    "    for k in range(1, support_size +1):\n",
    "        if count_diag >= k and count_lower_triangle >= support_size - k:\n",
    "            sum += ncr(count_diag, k) * ncr(count_lower_triangle, support_size - k)\n",
    "    table.append([support_size, deg, sum])\n",
    "\n",
    "print(tabulate(table, headers='firstrow', tablefmt='fancy_grid'))"
   ]
  },
  {
   "cell_type": "markdown",
   "id": "85677bfe-7d60-4291-8575-a538a412983f",
   "metadata": {},
   "source": [
    "### Example deg = 2, support size = 4\n",
    "Here we enumerate all valid configurations of degree $2$."
   ]
  },
  {
   "cell_type": "code",
   "execution_count": 19,
   "id": "08e43c88-b797-4ab1-895e-3d2e1f23045e",
   "metadata": {},
   "outputs": [
    {
     "name": "stdout",
     "output_type": "stream",
     "text": [
      "   1 \n",
      "   1    1 \n",
      "  -1    1    0 \n",
      "\n",
      "   1 \n",
      "   1    0 \n",
      "  -1    1    1 \n",
      "\n",
      "   0 \n",
      "   1    1 \n",
      "  -1    1    1 \n",
      "\n",
      "   1 \n",
      "   1    1 \n",
      "  -1    0    1 \n",
      "\n",
      "   1 \n",
      "   0    1 \n",
      "  -1    1    1 \n",
      "\n"
     ]
    }
   ],
   "source": [
    "degree = 2\n",
    "for supp in grid_iter(degree):\n",
    "    w = np.array([1 if idx in supp else 0 for idx in range(gauss(degree+1))])\n",
    "    w[0] = -1\n",
    "    print(HV(w))"
   ]
  },
  {
   "cell_type": "code",
   "execution_count": null,
   "id": "2f66753a-e414-427b-b514-ee3a1c62c16f",
   "metadata": {},
   "outputs": [],
   "source": []
  }
 ],
 "metadata": {
  "kernelspec": {
   "display_name": "Python 3 (ipykernel)",
   "language": "python",
   "name": "python3"
  },
  "language_info": {
   "codemirror_mode": {
    "name": "ipython",
    "version": 3
   },
   "file_extension": ".py",
   "mimetype": "text/x-python",
   "name": "python",
   "nbconvert_exporter": "python",
   "pygments_lexer": "ipython3",
   "version": "3.9.18"
  }
 },
 "nbformat": 4,
 "nbformat_minor": 5
}
