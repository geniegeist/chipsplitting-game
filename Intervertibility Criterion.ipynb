{
 "cells": [
  {
   "cell_type": "code",
   "execution_count": 17,
   "id": "c9cb7c36-fab0-4a2a-a522-3e59c2175ec8",
   "metadata": {},
   "outputs": [],
   "source": [
    "import numpy as np\n",
    "import math\n",
    "\n",
    "def ncr(n, r):\n",
    "    f = math.factorial\n",
    "    return f(n) // f(r) // f(n-r)\n",
    "\n",
    "def det(A):\n",
    "    return np.linalg.det(A)\n",
    "\n",
    "def prettyMatrix(A):\n",
    "    for row in A:\n",
    "        for val in row:\n",
    "            val = str(val)\n",
    "            print(f\"{''.join([' '] * (4 - len(val))) + val}\", end=\" \")\n",
    "        print(\"\")"
   ]
  },
  {
   "cell_type": "markdown",
   "id": "4237d7d5-d358-4bac-aa45-39398bc03cf1",
   "metadata": {},
   "source": [
    "Recall $\\varphi_{a} = \\sum_{(i,j) \\in V_d} {d - i - j \\choose a - i} x_{i, j}$.\n",
    "Given a set of basis indices $E$ and a set of support indices $S$ we define the **pairing matrix** to be $    A^{(d)}_{E, S} = \\begin{bmatrix}{d - i - j \\choose a - i}\\end{bmatrix}_{a \\in E, (i,j) \\in S}\n",
    "$.\n",
    "\n",
    "**Invertibility criterion**: If the pairing matrix is invertible, then any outcome $w$ with support in $S$ is the initial configuration."
   ]
  },
  {
   "cell_type": "code",
   "execution_count": 18,
   "id": "6ddb12e2-9438-4da2-a9ed-9dcb99c8023f",
   "metadata": {},
   "outputs": [],
   "source": [
    "def phi_coefficients(degree, a):\n",
    "    coefficients = []\n",
    "    for col in range(degree + 1):\n",
    "        rows = []\n",
    "        for row in range(degree + 1 - col):\n",
    "            if a - col >= 0 and degree - col - row >= a - col:\n",
    "                rows.append(ncr(degree - col - row, a - col))\n",
    "            else:\n",
    "                rows.append(0)\n",
    "        coefficients.append(rows)\n",
    "    return coefficients\n",
    "\n",
    "def pairing_matrix(degree, E, S):\n",
    "    assert len(E) == len(S), \"E and S must have same length\"\n",
    "    A = []\n",
    "\n",
    "    for a in E:\n",
    "        phi_coeff = phi_coefficients(degree, a)\n",
    "        row = [phi_coeff[i][j] for i,j in S]\n",
    "        A.append(row)\n",
    "    \n",
    "    return A"
   ]
  },
  {
   "cell_type": "code",
   "execution_count": 19,
   "id": "33d340c3-d1b4-41cb-8dea-6cf285ec1cbe",
   "metadata": {},
   "outputs": [
    {
     "name": "stdout",
     "output_type": "stream",
     "text": [
      "   1    1    1 \n",
      "   5    4    3 \n",
      "  10    6    3 \n"
     ]
    }
   ],
   "source": [
    "degree = 5\n",
    "basis = [0,1,2]\n",
    "support = [(0,0), (0,1), (0,2)]\n",
    "A = pairing_matrix(degree, basis, support)\n",
    "prettyMatrix(A)"
   ]
  },
  {
   "cell_type": "code",
   "execution_count": 49,
   "id": "345ea551-ee53-4991-af9d-35073b149046",
   "metadata": {},
   "outputs": [
    {
     "data": {
      "text/plain": [
       "-1.0000000000000004"
      ]
     },
     "execution_count": 49,
     "metadata": {},
     "output_type": "execute_result"
    }
   ],
   "source": [
    "det(A)"
   ]
  },
  {
   "cell_type": "code",
   "execution_count": null,
   "id": "36c4e0ea-589b-4713-96bf-88d069da0e72",
   "metadata": {},
   "outputs": [],
   "source": []
  }
 ],
 "metadata": {
  "kernelspec": {
   "display_name": "Python 3 (ipykernel)",
   "language": "python",
   "name": "python3"
  },
  "language_info": {
   "codemirror_mode": {
    "name": "ipython",
    "version": 3
   },
   "file_extension": ".py",
   "mimetype": "text/x-python",
   "name": "python",
   "nbconvert_exporter": "python",
   "pygments_lexer": "ipython3",
   "version": "3.9.18"
  }
 },
 "nbformat": 4,
 "nbformat_minor": 5
}
