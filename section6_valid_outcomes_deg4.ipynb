{
 "cells": [
  {
   "cell_type": "code",
   "execution_count": 10,
   "id": "1438173d-9a6b-4a7e-a8d0-bd6801c1b300",
   "metadata": {},
   "outputs": [],
   "source": [
    "import numpy as np\n",
    "import math\n",
    "from tabulate import tabulate\n",
    "from chipsplitting import pairing_matrix\n",
    "from chipsplitting.hyperfield import HyperfieldVector as HV, HyperfieldPascalForm as HVPascal, HyperfieldHomogeneousLinearSystem as HVLinearSystem, grid_iter\n",
    "from chipsplitting.utils import gauss, ncr"
   ]
  },
  {
   "cell_type": "markdown",
   "id": "03a7fb16-2f95-406d-a97b-cb53249a7440",
   "metadata": {},
   "source": [
    "### Proof of Lemma 6.21 a,b,c\n",
    "\n",
    "Goal: Find the number of valid configurations $s \\in H^{V_d}$ with $|\\mathrm{supp}^+(s)| = 4$ such that all basis systems $\\varphi, \\psi, \\bar \\psi$ vanish at $s$."
   ]
  },
  {
   "cell_type": "code",
   "execution_count": 11,
   "id": "703275a6-b9a0-4b70-8ce8-3301101632c3",
   "metadata": {},
   "outputs": [],
   "source": [
    "def solve_homogen_linear_system(equations, support_size, mode=\"plain\"):\n",
    "    solutions = []\n",
    "    degree = equations[0].degree\n",
    "    for supp in grid_iter(degree, support_size):\n",
    "        w = np.array([1 if idx in supp else 0 for idx in range(gauss(degree+1))])\n",
    "        w[0] = -1\n",
    "        v = HV(w)\n",
    "\n",
    "        if mode == \"plain\":\n",
    "            is_valid = True\n",
    "            for p in equations:\n",
    "                if not np.isnan(p(v)):\n",
    "                    is_valid = False\n",
    "                    break\n",
    "        \n",
    "            if is_valid:\n",
    "                solutions.append(w)\n",
    "        elif mode == \"linear_system\":\n",
    "            P = HVLinearSystem(equations)\n",
    "            if P.is_solved_by_valid(v):\n",
    "                solutions.append(w)\n",
    "    return solutions"
   ]
  },
  {
   "cell_type": "code",
   "execution_count": 12,
   "id": "d621543e-791f-4630-b6b8-42534200ef5b",
   "metadata": {},
   "outputs": [
    {
     "name": "stdout",
     "output_type": "stream",
     "text": [
      "Number of configurations for degree=6: 5\n",
      "[array([-1,  0,  0,  0,  1,  0,  0,  0,  0,  0,  0,  0,  0,  0,  0,  0,  0,\n",
      "        0,  0,  0,  1,  1,  0,  0,  1,  0,  0,  0]), array([-1,  0,  0,  0,  0,  0,  0,  0,  0,  1,  0,  0,  0,  0,  0,  0,  1,\n",
      "        0,  0,  0,  0,  1,  0,  0,  0,  0,  1,  0]), array([-1,  0,  0,  0,  0,  0,  1,  0,  0,  0,  0,  0,  0,  0,  0,  0,  0,\n",
      "        0,  0,  1,  0,  0,  1,  0,  0,  0,  0,  1]), array([-1,  0,  0,  0,  1,  0,  0,  0,  0,  0,  0,  0,  0,  0,  0,  1,  0,\n",
      "        0,  0,  0,  0,  0,  0,  0,  1,  0,  0,  1]), array([-1,  0,  0,  0,  1,  0,  0,  0,  0,  0,  0,  0,  0,  0,  0,  0,  0,\n",
      "        0,  0,  0,  0,  1,  0,  0,  1,  0,  0,  1])]\n",
      "Number of configurations for degree=7: 3\n",
      "[array([-1,  0,  0,  0,  0,  0,  0,  0,  0,  0,  0,  0,  0,  1,  0,  0,  0,\n",
      "        0,  0,  0,  0,  0,  1,  0,  0,  0,  0,  0,  1,  0,  0,  0,  0,  0,\n",
      "        0,  1]), array([-1,  0,  0,  0,  1,  0,  0,  0,  0,  0,  0,  0,  0,  0,  0,  0,  0,\n",
      "        0,  0,  0,  0,  0,  0,  0,  1,  0,  0,  0,  1,  0,  0,  0,  0,  0,\n",
      "        0,  1]), array([-1,  0,  0,  0,  0,  0,  0,  0,  0,  0,  0,  1,  0,  0,  0,  0,  0,\n",
      "        0,  0,  0,  0,  0,  0,  0,  0,  0,  1,  0,  1,  0,  0,  0,  0,  0,\n",
      "        0,  1])]\n",
      "Number of configurations for degree=8: 0\n",
      "Number of configurations for degree=9: 0\n",
      "Number of configurations for degree=10: 0\n",
      "Number of configurations for degree=11: 0\n",
      "CPU times: user 55.8 s, sys: 567 ms, total: 56.4 s\n",
      "Wall time: 56 s\n"
     ]
    }
   ],
   "source": [
    "%%time\n",
    "support_size = 4\n",
    "for degree in range(6, 12):\n",
    "    pascal_eqns = [HVPascal(degree, mode, unit) for mode in [\"row\", \"diag\", \"col\"] for unit in range(degree + 1)]\n",
    "    solutions = solve_homogen_linear_system(pascal_eqns, support_size, \"plain\")\n",
    "    print(f\"Number of configurations for degree={degree}: {len(solutions)}\")\n",
    "    if solutions:\n",
    "        print(solutions)"
   ]
  },
  {
   "cell_type": "code",
   "execution_count": 15,
   "id": "d886cc21-c326-4c94-b071-ebf81762b700",
   "metadata": {},
   "outputs": [
    {
     "name": "stdout",
     "output_type": "stream",
     "text": [
      "Number of configurations for degree=8: 792\n",
      "Number of configurations for degree=9: 882\n",
      "Number of configurations for degree=10: 950\n",
      "Number of configurations for degree=11: 1084\n",
      "Number of configurations for degree=12: 1102\n",
      "CPU times: user 42min 27s, sys: 13.8 s, total: 42min 40s\n",
      "Wall time: 42min 42s\n"
     ]
    }
   ],
   "source": [
    "%%time\n",
    "support_size = 5\n",
    "degree_begin = 8\n",
    "degree_end = 12\n",
    "for degree in range(degree_begin, degree_end + 1):\n",
    "    pascal_eqns = [HVPascal(degree, mode, unit) for mode in [\"row\", \"diag\", \"col\"] for unit in range(degree + 1)]\n",
    "    solutions = solve_homogen_linear_system(pascal_eqns, support_size, \"plain\")\n",
    "    print(f\"Number of configurations for degree={degree}: {len(solutions)}\")\n",
    "    # if solutions:\n",
    "    #   print(solutions)"
   ]
  },
  {
   "cell_type": "markdown",
   "id": "d1745fc6-0f9e-4acc-9efe-7fcb492cb3ad",
   "metadata": {},
   "source": [
    "\n",
    "__Conclusion__: We conclude that only configurations $s$ of degree $d = 6$ or $d = 7$ belong to $\\Omega_d$."
   ]
  },
  {
   "cell_type": "markdown",
   "id": "71a4315d-b0a7-4607-9dc5-04dce937bff7",
   "metadata": {},
   "source": [
    "### Lemma 6.21 d\n",
    "\n",
    "Fix some degree $d$.\n",
    "We define $\\hat \\varphi_i, i=1,2,3$ to be the linear form of $\\varphi_{i, d - i}$ in $H[x,y,z,b,c,d,e]$. A configuration $s$ in $H^{\\Xi}$ uses the following coordinates $s = [ s_{i} ]_{i=0,...,59} = [x_0,...,x_{15}, y_{16},...,y_{31},z_{32},...,z_{47}, b_{48}, ..., b_{51}, c_{52},..., c_{55}, d_{56}, ..., d_{59}, e_{60},...,e_{63}] \\in H^{64}$."
   ]
  },
  {
   "cell_type": "markdown",
   "id": "cbe1308d-ccf0-416c-a9ba-61390b82627c",
   "metadata": {},
   "source": [
    "#### Find valid configurations for $d \\geq 12$\n",
    "\n",
    "Fix some degree $d$. We define the following sets of Pascal equations \n",
    "$$\n",
    "    A = \\{ \\psi_1,..., \\psi_6, \\varphi_1, ...,  \\varphi_6 \\}\n",
    "$$\n",
    "where $\\psi_1, \\psi_2, \\psi_3$ are the Pascal equations respectively defined by \n",
    "```\n",
    "0                0                0\n",
    "* .              * .              * .\n",
    "0 . .            0 . .            1 . .\n",
    "0 . . .          1 . . .          0 . . .\n",
    "1 . . . .        0 . . . .        0 . . . .\n",
    "0 . . . . .      0 . . . . .      0 . . . . .       * stands for arbitrarily many 0\n",
    "```\n",
    "$\\psi_4, \\psi_5, \\psi_6$ are the Pascal equations respectively defined by \n",
    "```\n",
    ".                .                .\n",
    ". .              . .              . .\n",
    ". . .            . . .            . . .\n",
    ". . . .          . . . .          . . . .\n",
    ". . . . .        . . . . .        . . . . . \n",
    "0 1 0 0 * 0      0 0 1 0 * 0      0 0 0 1 * 0       * stands for arbitrarily many 0\n",
    "```\n",
    "$\\varphi_1,...,\\varphi_6$ are the Pascal equations respectively defined by\n",
    "```\n",
    "0                0                0\n",
    ". 1              . 0              . 0\n",
    ". . 0            . . 1            . . 0\n",
    ". . . 0          . . . 0          . . . 1\n",
    ". . . . *        . . . . *        . . . . *\n",
    ". . . . . 0      . . . . . 0      . . . . . 0      \n",
    "\n",
    "0                0                0\n",
    ". *              . *              . *\n",
    ". . 1            . . 0            . . 0\n",
    ". . . 0          . . . 1          . . . 0\n",
    ". . . . 0        . . . . 0        . . . . 1\n",
    ". . . . . 0      . . . . . 0      . . . . . 0       * stands for arbitrarily many 0\n",
    "```\n",
    "and $\\xi_1,...,\\xi_8$ are the Pascal equations respectively defined by\n",
    "```\n",
    "1                 0                0                0\n",
    "0 .               1 .              0 .              0 .\n",
    "0 . .             0 . .            1 . .            0 . .\n",
    "0 . . .           0 . . .          0 . . .          1 . . .\n",
    "* . . . .         * . . . .        * . . . .        * . . . . \n",
    "0 . . . . .       0 . . . . .      0 . . . . .      0 . . . . .      \n",
    "\n",
    ".                .                .                .\n",
    ". .              . .              . .              . .\n",
    ". . .            . . .            . . .            . . .\n",
    ". . . .          . . . .          . . . .          . . . .\n",
    ". . . . .        . . . . .        . . . . .        . . . . . \n",
    "0 * 0 0 0 1      0 * 0 0 1 0      0 * 0 1 0 0      0 * 1 0 0 0       * stands for arbitrarily many 0\n",
    "```"
   ]
  },
  {
   "cell_type": "code",
   "execution_count": 4,
   "id": "3be8a3bb-83eb-495d-9f3b-ffd7f39509c3",
   "metadata": {},
   "outputs": [],
   "source": [
    "def eval_f(support,x):\n",
    "    support_pos, support_neg = support[0], support[1]\n",
    "    if any(np.isnan(x[support_pos | support_neg])):\n",
    "        return np.nan\n",
    "    has_neg = any(x[support_pos] < 0) | any(x[support_neg] > 0)\n",
    "    has_pos = any(x[support_pos] > 0) | any(x[support_neg] < 0)\n",
    "    if has_neg and has_pos:\n",
    "        return np.nan\n",
    "    if has_neg:\n",
    "        return -1\n",
    "    elif has_pos:\n",
    "        return 1\n",
    "    return 0"
   ]
  },
  {
   "cell_type": "code",
   "execution_count": 5,
   "id": "68bd172f-9626-44ca-ba6f-d7152d21d036",
   "metadata": {},
   "outputs": [
    {
     "name": "stdout",
     "output_type": "stream",
     "text": [
      "Number of configurations for even d: 0\n",
      "Number of configurations for odd d: 0\n",
      "CPU times: user 11.5 s, sys: 31.7 ms, total: 11.5 s\n",
      "Wall time: 11.5 s\n"
     ]
    }
   ],
   "source": [
    "%%time\n",
    "def countValidConfigsForContractions(degree=\"even\"):\n",
    "    assert degree == \"even\" or degree == \"odd\", \"degree must be 'even' or 'odd'\"\n",
    "    \n",
    "    def create_hat_exhaust_generator():\n",
    "        # for d in range(63, 15, -1):\n",
    "        for d in [19,23,27,31,56,60,47,46,45,44]:\n",
    "            for i in range(1, 64):\n",
    "                if i == d:\n",
    "                    continue\n",
    "                for j in range(1, i):\n",
    "                    if j == d:\n",
    "                        continue\n",
    "                    for k in range(1, j):\n",
    "                        if k == d:\n",
    "                            continue\n",
    "                        yield (d, i, j, k)\n",
    "                    \n",
    "    res = []\n",
    "    A = np.array([\n",
    "        PSI_HAT_1_SUPP, PSI_HAT_2_SUPP, PSI_HAT_3_SUPP, \n",
    "        PSI_HAT_4_SUPP, PSI_HAT_5_SUPP, PSI_HAT_6_SUPP, \n",
    "        PHI_HAT_1_SUPP, PHI_HAT_2_SUPP, PHI_HAT_3_SUPP, \n",
    "        PHI_HAT_4_SUPP, PHI_HAT_5_SUPP, PHI_HAT_6_SUPP\n",
    "    ])\n",
    "    EVEN = np.array([\n",
    "        XI_HAT_1_EVEN_SUPP, XI_HAT_2_EVEN_SUPP, XI_HAT_3_EVEN_SUPP, \n",
    "        XI_HAT_4_EVEN_SUPP, XI_HAT_5_EVEN_SUPP, XI_HAT_6_EVEN_SUPP,\n",
    "        XI_HAT_7_EVEN_SUPP, XI_HAT_8_EVEN_SUPP\n",
    "    ])\n",
    "    ODD = np.array([\n",
    "        XI_HAT_1_ODD_SUPP, XI_HAT_2_ODD_SUPP, XI_HAT_3_ODD_SUPP, \n",
    "        XI_HAT_4_ODD_SUPP, XI_HAT_5_ODD_SUPP, XI_HAT_6_ODD_SUPP,\n",
    "        XI_HAT_7_ODD_SUPP, XI_HAT_8_ODD_SUPP\n",
    "    ])\n",
    "\n",
    "    for supp in create_hat_exhaust_generator():\n",
    "        w = np.array([1 if idx in supp else 0 for idx in range(64)])\n",
    "        w[0] = -1\n",
    "        \n",
    "        is_valid = True\n",
    "        for f in np.concatenate([A, EVEN if degree == \"even\" else ODD]):\n",
    "            val = eval_f(f, w)\n",
    "            if not np.isnan(val):\n",
    "                is_valid = False\n",
    "                break\n",
    "    \n",
    "        if is_valid:\n",
    "            res.append(w)\n",
    "\n",
    "    return res\n",
    "\n",
    "res1 = countValidConfigsForContractions(\"even\")\n",
    "print(f\"Number of configurations for even d: {len(res1)}\")\n",
    "\n",
    "res2 = countValidConfigsForContractions(\"odd\")\n",
    "print(f\"Number of configurations for odd d: {len(res2)}\")"
   ]
  },
  {
   "cell_type": "markdown",
   "id": "42fb8331-858d-44c3-af21-96d3457496c3",
   "metadata": {},
   "source": [
    "**Conclusion:** For $d \\geq 12$ there are no valid configurations in $H^{64}$ that satisfy all Pascal equations in $A \\cup \\mathrm{EVEN}$ or $A \\cup \\mathrm{ODD}$.\n",
    "\n",
    "**Why is this good?** It is a necessary condition for valid configurations $w \\in \\mathbb Z^{V_d}$ that all Pascal equations vanish at $\\mathrm{sign}(w)$. Since $A \\cup \\mathrm{EVEN}$ is a subset of all Pascal equations and $A \\cup \\mathrm{EVEN}$ have no zeros for configurations $s$ with support size $\\leq 4$, no valid $w \\in \\mathbb Z^{V_{d}}$ exist for $d \\geq 12$."
   ]
  },
  {
   "cell_type": "markdown",
   "id": "e93f666a-f10a-4151-b21b-a0180a4a3896",
   "metadata": {},
   "source": [
    "### Conclusion\n",
    "\n",
    "With Lemma 6.21 a,b,c,d we see that valid configurations $s \\in H^{V_d}$ with support size $4$ do not exist for degree $d \\geq 8$. The next step is to show that for $d = 6$ and $d = 7$, the valid configurations $s \\in H^{V_d}$ do not correspond to valid configurations $w \\in \\mathbb Z^{V_d}$. Thus, after showing this we can conclude that $|\\mathrm{supp}^+(w)| = 4 \\implies \\mathrm{deg}(w) \\leq 5$."
   ]
  },
  {
   "cell_type": "markdown",
   "id": "82154066-ed2b-41c6-bbd5-6a77e371a7d6",
   "metadata": {},
   "source": [
    "## Theorem 6.20\n",
    "\n",
    "We now prove that outcomes with support size $4$ are at most of degree $5$.\n",
    "\n",
    "From the previous sections, we already concluded that outcomes with support size $4$ are at most of degree $7$. We now reduce the degree bound to $5$. \n",
    "\n",
    "For degree $6$ we computed the following valid configurations in the hyperfield. We need to check if they are valid outcomes in $\\mathbb Z^{V_6}$.\n",
    "\n",
    "```\n",
    "[array([-1,  0,  0,  0,  1,  0,  0,  0,  0,  0,  0,  0,  0,  0,  0,  0,  0,\n",
    "         0,  0,  0,  1,  1,  0,  0,  1,  0,  0,  0]),\n",
    " array([-1,  0,  0,  0,  0,  0,  0,  0,  0,  1,  0,  0,  0,  0,  0,  0,  1,\n",
    "         0,  0,  0,  0,  1,  0,  0,  0,  0,  1,  0]),\n",
    " array([-1,  0,  0,  0,  0,  0,  1,  0,  0,  0,  0,  0,  0,  0,  0,  0,  0,\n",
    "         0,  0,  1,  0,  0,  1,  0,  0,  0,  0,  1]),\n",
    " array([-1,  0,  0,  0,  1,  0,  0,  0,  0,  0,  0,  0,  0,  0,  0,  1,  0,\n",
    "         0,  0,  0,  0,  0,  0,  0,  1,  0,  0,  1]),\n",
    " array([-1,  0,  0,  0,  1,  0,  0,  0,  0,  0,  0,  0,  0,  0,  0,  0,  0,\n",
    "         0,  0,  0,  0,  1,  0,  0,  1,  0,  0,  1])]\n",
    "```"
   ]
  },
  {
   "cell_type": "code",
   "execution_count": 24,
   "id": "7d0201da-2178-4d04-8c19-2ad669e58b19",
   "metadata": {},
   "outputs": [
    {
     "name": "stdout",
     "output_type": "stream",
     "text": [
      "Pairing matrix (support=[(0, 0), (1, 1), (5, 0), (0, 6), (3, 3)], basis=[0, 1, 2, 3, 4]) has determinant: 0.0\n",
      "Pairing matrix (support=[(0, 0), (3, 0), (1, 4), (0, 6), (5, 1)], basis=[0, 1, 2, 3, 4]) has determinant: 0.0\n",
      "Pairing matrix (support=[(0, 0), (0, 3), (4, 1), (1, 5), (6, 0)], basis=[0, 1, 2, 3, 4]) has determinant: 0.0\n",
      "Pairing matrix (support=[(0, 0), (1, 1), (0, 5), (3, 3), (6, 0)], basis=[0, 1, 2, 3, 4]) has determinant: 0.0\n",
      "Pairing matrix (support=[(0, 0), (1, 1), (0, 6), (3, 3), (6, 0)], basis=[0, 1, 2, 3, 4]) has determinant: 0.0\n"
     ]
    }
   ],
   "source": [
    "degree = 6\n",
    "configurations = [\n",
    "    [-1,  0,  0,  0,  1,  0,  0,  0,  0,  0,  0,  0,  0,  0,  0,  0,  0,\n",
    "         0,  0,  0,  1,  1,  0,  0,  1,  0,  0,  0],\n",
    "    [-1,  0,  0,  0,  0,  0,  0,  0,  0,  1,  0,  0,  0,  0,  0,  0,  1,\n",
    "         0,  0,  0,  0,  1,  0,  0,  0,  0,  1,  0],\n",
    "    [-1,  0,  0,  0,  0,  0,  1,  0,  0,  0,  0,  0,  0,  0,  0,  0,  0,\n",
    "         0,  0,  1,  0,  0,  1,  0,  0,  0,  0,  1],\n",
    "    [-1,  0,  0,  0,  1,  0,  0,  0,  0,  0,  0,  0,  0,  0,  0,  1,  0,\n",
    "         0,  0,  0,  0,  0,  0,  0,  1,  0,  0,  1],\n",
    "    [-1,  0,  0,  0,  1,  0,  0,  0,  0,  0,  0,  0,  0,  0,  0,  0,  0,\n",
    "         0,  0,  0,  0,  1,  0,  0,  1,  0,  0,  1]\n",
    "]\n",
    "\n",
    "for row in configurations:\n",
    "    support = [toIndex(i) for i, x in enumerate(row) if x == 1 or x == -1]\n",
    "    basis = list(range(len(support)))\n",
    "    P = pairing_matrix(degree, basis, support)\n",
    "    print(f\"Pairing matrix (support={support}, basis={basis}) has determinant: {np.linalg.det(P)}\")"
   ]
  },
  {
   "cell_type": "markdown",
   "id": "d37ea3fe-12fc-4b78-a7cb-235eb562c0a5",
   "metadata": {},
   "source": [
    "**Conclusion:** By the intervertibility criterion only the initial configuration $\\mathbf 0 \\in \\mathbb Z^{V_d}$ can live in the support given above. Thus, no outcome of degree $6$ with support size $4$ exist."
   ]
  },
  {
   "cell_type": "markdown",
   "id": "ff074339-a741-41b2-8fb3-adf54f812061",
   "metadata": {},
   "source": [
    "For degree $7$ we have the following support set that we need to check\n",
    "```\n",
    "[array([-1,  0,  0,  0,  0,  0,  0,  0,  0,  0,  0,  0,  0,  1,  0,  0,  0,\n",
    "         0,  0,  0,  0,  0,  1,  0,  0,  0,  0,  0,  1,  0,  0,  0,  0,  0,\n",
    "         0,  1]),\n",
    " array([-1,  0,  0,  0,  1,  0,  0,  0,  0,  0,  0,  0,  0,  0,  0,  0,  0,\n",
    "         0,  0,  0,  0,  0,  0,  0,  1,  0,  0,  0,  1,  0,  0,  0,  0,  0,\n",
    "         0,  1]),\n",
    " array([-1,  0,  0,  0,  0,  0,  0,  0,  0,  0,  0,  1,  0,  0,  0,  0,  0,\n",
    "         0,  0,  0,  0,  0,  0,  0,  0,  0,  1,  0,  1,  0,  0,  0,  0,  0,\n",
    "         0,  1])]\n",
    "```"
   ]
  },
  {
   "cell_type": "code",
   "execution_count": 25,
   "id": "7f91ec67-31d9-49c9-b0b0-d97152ca121e",
   "metadata": {},
   "outputs": [
    {
     "name": "stdout",
     "output_type": "stream",
     "text": [
      "Pairing matrix (support=[(0, 0), (3, 1), (1, 5), (0, 7), (7, 0)], basis=[0, 1, 2, 3, 4]) has determinant: 0.0\n",
      "Pairing matrix (support=[(0, 0), (1, 1), (3, 3), (0, 7), (7, 0)], basis=[0, 1, 2, 3, 4]) has determinant: 0.0\n",
      "Pairing matrix (support=[(0, 0), (1, 3), (5, 1), (0, 7), (7, 0)], basis=[0, 1, 2, 3, 4]) has determinant: 0.0\n"
     ]
    }
   ],
   "source": [
    "degree = 7\n",
    "configurations = [\n",
    "    [-1,  0,  0,  0,  0,  0,  0,  0,  0,  0,  0,  0,  0,  1,  0,  0,  0,\n",
    "         0,  0,  0,  0,  0,  1,  0,  0,  0,  0,  0,  1,  0,  0,  0,  0,  0,\n",
    "         0,  1],\n",
    "    [-1,  0,  0,  0,  1,  0,  0,  0,  0,  0,  0,  0,  0,  0,  0,  0,  0,\n",
    "         0,  0,  0,  0,  0,  0,  0,  1,  0,  0,  0,  1,  0,  0,  0,  0,  0,\n",
    "         0,  1],\n",
    "    [-1,  0,  0,  0,  0,  0,  0,  0,  0,  0,  0,  1,  0,  0,  0,  0,  0,\n",
    "         0,  0,  0,  0,  0,  0,  0,  0,  0,  1,  0,  1,  0,  0,  0,  0,  0,\n",
    "         0,  1]\n",
    "]\n",
    "\n",
    "for row in configurations:\n",
    "    support = [toIndex(i) for i, x in enumerate(row) if x == 1 or x == -1]\n",
    "    basis = list(range(len(support)))\n",
    "    P = pairing_matrix(degree, basis, support)\n",
    "    print(f\"Pairing matrix (support={support}, basis={basis}) has determinant: {np.linalg.det(P)}\")"
   ]
  },
  {
   "cell_type": "markdown",
   "id": "e3e388bd-baa8-4bf7-af2b-4e9012c131aa",
   "metadata": {},
   "source": [
    "**Conclusion:** By the intervertibility criterion only the initial configuration $\\mathbf 0 \\in \\mathbb Z^{V_d}$ can live in the support given above. Thus, no outcome of degree $7$ with support size $4$ exist."
   ]
  },
  {
   "cell_type": "markdown",
   "id": "89d9cc30-e06e-4c4a-b58a-11c45b65819c",
   "metadata": {},
   "source": [
    "### Conclusion\n",
    "\n",
    "This proves Theorem 6.20."
   ]
  }
 ],
 "metadata": {
  "kernelspec": {
   "display_name": "Python 3 (ipykernel)",
   "language": "python",
   "name": "python3"
  },
  "language_info": {
   "codemirror_mode": {
    "name": "ipython",
    "version": 3
   },
   "file_extension": ".py",
   "mimetype": "text/x-python",
   "name": "python",
   "nbconvert_exporter": "python",
   "pygments_lexer": "ipython3",
   "version": "3.9.18"
  }
 },
 "nbformat": 4,
 "nbformat_minor": 5
}
